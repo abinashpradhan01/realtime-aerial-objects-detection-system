{
  "cells": [
    {
      "cell_type": "markdown",
      "id": "c9aadb33",
      "metadata": {
        "id": "c9aadb33"
      },
      "source": [
        "## Training yolo"
      ]
    },
    {
      "cell_type": "code",
      "execution_count": 8,
      "id": "OCLs2V4fZ3bU",
      "metadata": {
        "colab": {
          "base_uri": "https://localhost:8080/"
        },
        "id": "OCLs2V4fZ3bU",
        "outputId": "14c4356c-e45d-4963-c8d1-7985353f7b4c"
      },
      "outputs": [
        {
          "name": "stdout",
          "output_type": "stream",
          "text": [
            "Drive already mounted at /content/drive; to attempt to forcibly remount, call drive.mount(\"/content/drive\", force_remount=True).\n"
          ]
        }
      ],
      "source": [
        "from google.colab import drive\n",
        "drive.mount('/content/drive')"
      ]
    },
    {
      "cell_type": "code",
      "execution_count": 9,
      "id": "65b6915a-dbb9-44bf-9a34-2021b9b400be",
      "metadata": {
        "colab": {
          "base_uri": "https://localhost:8080/"
        },
        "id": "65b6915a-dbb9-44bf-9a34-2021b9b400be",
        "outputId": "736fab35-b571-43e2-a3de-092deb6ab8e0"
      },
      "outputs": [
        {
          "name": "stdout",
          "output_type": "stream",
          "text": [
            "[Errno 2] No such file or directory: '/content/drive/MyDrive/merged.v2i.yolov11'\n",
            "/content\n"
          ]
        }
      ],
      "source": [
        "%cd /content/drive/MyDrive/merged.v2i.yolov11"
      ]
    },
    {
      "cell_type": "code",
      "execution_count": null,
      "id": "befd1c42-55ba-438b-8e36-0171d7a34555",
      "metadata": {
        "id": "befd1c42-55ba-438b-8e36-0171d7a34555"
      },
      "outputs": [],
      "source": [
        "# Upgrade and reinstall ultralytics and torch cleanly\n",
        "# !pip uninstall -y ultralytics torch torchvision torchaudio\n",
        "# !pip install --no-cache-dir torch torchvision torchaudio --index-url https://download.pytorch.org/whl/cu121\n",
        "!pip install --no-cache-dir ultralytics\n"
      ]
    },
    {
      "cell_type": "code",
      "execution_count": null,
      "id": "cf0f19b8-0bb6-44d5-aa76-a4d3c8654ca6",
      "metadata": {
        "id": "cf0f19b8-0bb6-44d5-aa76-a4d3c8654ca6"
      },
      "outputs": [],
      "source": [
        "import ultralytics\n",
        "ultralytics.__version__"
      ]
    },
    {
      "cell_type": "code",
      "execution_count": null,
      "id": "5793f355-11cb-4fa1-88d9-cfc22daecdd7",
      "metadata": {
        "id": "5793f355-11cb-4fa1-88d9-cfc22daecdd7"
      },
      "outputs": [],
      "source": [
        "!unzip -o \"/content/drive/MyDrive/merged.v2i.yolov11.zip\" -d \"/content/merged_data/\""
      ]
    },
    {
      "cell_type": "code",
      "execution_count": 6,
      "id": "d45b7edc",
      "metadata": {
        "colab": {
          "base_uri": "https://localhost:8080/"
        },
        "id": "d45b7edc",
        "outputId": "3141fe1b-0172-4065-c893-9937d11f20d1"
      },
      "outputs": [
        {
          "name": "stdout",
          "output_type": "stream",
          "text": [
            "Downloading https://github.com/ultralytics/assets/releases/download/v8.3.0/yolo11m.pt to 'yolo11m.pt'...\n"
          ]
        },
        {
          "name": "stderr",
          "output_type": "stream",
          "text": [
            "100%|██████████| 38.8M/38.8M [00:00<00:00, 115MB/s]\n"
          ]
        }
      ],
      "source": [
        "from ultralytics import YOLO\n",
        "\n",
        "# Load a COCO-pretrained YOLO11n model\n",
        "model = YOLO(\"yolo11m.pt\")"
      ]
    },
    {
      "cell_type": "code",
      "execution_count": 7,
      "id": "860d096d",
      "metadata": {
        "id": "860d096d"
      },
      "outputs": [],
      "source": [
        "path = \"/content/merged_data/data.yaml\"\n"
      ]
    },
    {
      "cell_type": "code",
      "execution_count": 8,
      "id": "75dd114f",
      "metadata": {
        "colab": {
          "base_uri": "https://localhost:8080/"
        },
        "id": "75dd114f",
        "outputId": "6c0da884-04e0-4288-f95b-fb7821050395"
      },
      "outputs": [
        {
          "name": "stdout",
          "output_type": "stream",
          "text": [
            "Ultralytics 8.3.155 🚀 Python-3.11.13 torch-2.5.1+cu121 CUDA:0 (Tesla T4, 15095MiB)\n",
            "\u001b[34m\u001b[1mengine/trainer: \u001b[0magnostic_nms=False, amp=True, augment=False, auto_augment=randaugment, batch=6, bgr=0.0, box=7.5, cache=False, cfg=None, classes=None, close_mosaic=10, cls=0.5, conf=None, copy_paste=0.0, copy_paste_mode=flip, cos_lr=False, cutmix=0.0, data=/content/merged_data/data.yaml, degrees=0.0, deterministic=True, device=0, dfl=1.5, dnn=False, dropout=0.0, dynamic=False, embed=None, epochs=40, erasing=0.4, exist_ok=True, fliplr=0.5, flipud=0.0, format=torchscript, fraction=1.0, freeze=None, half=False, hsv_h=0.015, hsv_s=0.7, hsv_v=0.4, imgsz=640, int8=False, iou=0.7, keras=False, kobj=1.0, line_width=None, lr0=0.01, lrf=0.01, mask_ratio=4, max_det=300, mixup=0.0, mode=train, model=yolo11m.pt, momentum=0.937, mosaic=1.0, multi_scale=False, name=yolov11m_exp1_colab, nbs=64, nms=False, opset=None, optimize=False, optimizer=auto, overlap_mask=True, patience=5, perspective=0.0, plots=True, pose=12.0, pretrained=True, profile=False, project=/content/drive/MyDrive/yolo_train_logs, rect=False, resume=False, retina_masks=False, save=True, save_conf=False, save_crop=False, save_dir=/content/drive/MyDrive/yolo_train_logs/yolov11m_exp1_colab, save_frames=False, save_json=False, save_period=-1, save_txt=False, scale=0.5, seed=0, shear=0.0, show=False, show_boxes=True, show_conf=True, show_labels=True, simplify=True, single_cls=False, source=None, split=val, stream_buffer=False, task=detect, time=None, tracker=botsort.yaml, translate=0.1, val=True, verbose=True, vid_stride=1, visualize=False, warmup_bias_lr=0.1, warmup_epochs=3.0, warmup_momentum=0.8, weight_decay=0.0005, workers=2, workspace=None\n",
            "Downloading https://ultralytics.com/assets/Arial.ttf to '/root/.config/Ultralytics/Arial.ttf'...\n"
          ]
        },
        {
          "name": "stderr",
          "output_type": "stream",
          "text": [
            "100%|██████████| 755k/755k [00:00<00:00, 21.8MB/s]"
          ]
        },
        {
          "name": "stdout",
          "output_type": "stream",
          "text": [
            "Overriding model.yaml nc=80 with nc=1\n",
            "\n",
            "                   from  n    params  module                                       arguments                     \n",
            "  0                  -1  1      1856  ultralytics.nn.modules.conv.Conv             [3, 64, 3, 2]                 \n",
            "  1                  -1  1     73984  ultralytics.nn.modules.conv.Conv             [64, 128, 3, 2]               \n",
            "  2                  -1  1    111872  ultralytics.nn.modules.block.C3k2            [128, 256, 1, True, 0.25]     \n",
            "  3                  -1  1    590336  ultralytics.nn.modules.conv.Conv             [256, 256, 3, 2]              \n",
            "  4                  -1  1    444928  ultralytics.nn.modules.block.C3k2            [256, 512, 1, True, 0.25]     \n",
            "  5                  -1  1   2360320  ultralytics.nn.modules.conv.Conv             [512, 512, 3, 2]              \n",
            "  6                  -1  1   1380352  ultralytics.nn.modules.block.C3k2            [512, 512, 1, True]           \n",
            "  7                  -1  1   2360320  ultralytics.nn.modules.conv.Conv             [512, 512, 3, 2]              \n"
          ]
        },
        {
          "name": "stderr",
          "output_type": "stream",
          "text": [
            "\n"
          ]
        },
        {
          "name": "stdout",
          "output_type": "stream",
          "text": [
            "  8                  -1  1   1380352  ultralytics.nn.modules.block.C3k2            [512, 512, 1, True]           \n",
            "  9                  -1  1    656896  ultralytics.nn.modules.block.SPPF            [512, 512, 5]                 \n",
            " 10                  -1  1    990976  ultralytics.nn.modules.block.C2PSA           [512, 512, 1]                 \n",
            " 11                  -1  1         0  torch.nn.modules.upsampling.Upsample         [None, 2, 'nearest']          \n",
            " 12             [-1, 6]  1         0  ultralytics.nn.modules.conv.Concat           [1]                           \n",
            " 13                  -1  1   1642496  ultralytics.nn.modules.block.C3k2            [1024, 512, 1, True]          \n",
            " 14                  -1  1         0  torch.nn.modules.upsampling.Upsample         [None, 2, 'nearest']          \n",
            " 15             [-1, 4]  1         0  ultralytics.nn.modules.conv.Concat           [1]                           \n",
            " 16                  -1  1    542720  ultralytics.nn.modules.block.C3k2            [1024, 256, 1, True]          \n",
            " 17                  -1  1    590336  ultralytics.nn.modules.conv.Conv             [256, 256, 3, 2]              \n",
            " 18            [-1, 13]  1         0  ultralytics.nn.modules.conv.Concat           [1]                           \n",
            " 19                  -1  1   1511424  ultralytics.nn.modules.block.C3k2            [768, 512, 1, True]           \n",
            " 20                  -1  1   2360320  ultralytics.nn.modules.conv.Conv             [512, 512, 3, 2]              \n",
            " 21            [-1, 10]  1         0  ultralytics.nn.modules.conv.Concat           [1]                           \n",
            " 22                  -1  1   1642496  ultralytics.nn.modules.block.C3k2            [1024, 512, 1, True]          \n",
            " 23        [16, 19, 22]  1   1411795  ultralytics.nn.modules.head.Detect           [1, [256, 512, 512]]          \n",
            "YOLO11m summary: 231 layers, 20,053,779 parameters, 20,053,763 gradients, 68.2 GFLOPs\n",
            "\n",
            "Transferred 643/649 items from pretrained weights\n",
            "Freezing layer 'model.23.dfl.conv.weight'\n",
            "\u001b[34m\u001b[1mAMP: \u001b[0mrunning Automatic Mixed Precision (AMP) checks...\n",
            "Downloading https://github.com/ultralytics/assets/releases/download/v8.3.0/yolo11n.pt to 'yolo11n.pt'...\n"
          ]
        },
        {
          "name": "stderr",
          "output_type": "stream",
          "text": [
            "100%|██████████| 5.35M/5.35M [00:00<00:00, 6.33MB/s]\n"
          ]
        },
        {
          "name": "stdout",
          "output_type": "stream",
          "text": [
            "\u001b[34m\u001b[1mAMP: \u001b[0mchecks passed ✅\n",
            "\u001b[34m\u001b[1mtrain: \u001b[0mFast image access ✅ (ping: 0.0±0.0 ms, read: 1411.3±379.9 MB/s, size: 51.5 KB)\n"
          ]
        },
        {
          "name": "stderr",
          "output_type": "stream",
          "text": [
            "\u001b[34m\u001b[1mtrain: \u001b[0mScanning /content/merged_data/train/labels... 8378 images, 0 backgrounds, 0 corrupt: 100%|██████████| 8378/8378 [00:03<00:00, 2623.56it/s]\n"
          ]
        },
        {
          "name": "stdout",
          "output_type": "stream",
          "text": [
            "\u001b[34m\u001b[1mtrain: \u001b[0mNew cache created: /content/merged_data/train/labels.cache\n",
            "\u001b[34m\u001b[1malbumentations: \u001b[0mBlur(p=0.01, blur_limit=(3, 7)), MedianBlur(p=0.01, blur_limit=(3, 7)), ToGray(p=0.01, method='weighted_average', num_output_channels=3), CLAHE(p=0.01, clip_limit=(1.0, 4.0), tile_grid_size=(8, 8))\n",
            "\u001b[34m\u001b[1mval: \u001b[0mFast image access ✅ (ping: 0.0±0.0 ms, read: 831.3±430.7 MB/s, size: 46.6 KB)\n"
          ]
        },
        {
          "name": "stderr",
          "output_type": "stream",
          "text": [
            "\u001b[34m\u001b[1mval: \u001b[0mScanning /content/merged_data/valid/labels... 1505 images, 0 backgrounds, 0 corrupt: 100%|██████████| 1505/1505 [00:01<00:00, 1227.85it/s]"
          ]
        },
        {
          "name": "stdout",
          "output_type": "stream",
          "text": [
            "\u001b[34m\u001b[1mval: \u001b[0mNew cache created: /content/merged_data/valid/labels.cache\n"
          ]
        },
        {
          "name": "stderr",
          "output_type": "stream",
          "text": [
            "\n"
          ]
        },
        {
          "name": "stdout",
          "output_type": "stream",
          "text": [
            "Plotting labels to /content/drive/MyDrive/yolo_train_logs/yolov11m_exp1_colab/labels.jpg... \n",
            "\u001b[34m\u001b[1moptimizer:\u001b[0m 'optimizer=auto' found, ignoring 'lr0=0.01' and 'momentum=0.937' and determining best 'optimizer', 'lr0' and 'momentum' automatically... \n",
            "\u001b[34m\u001b[1moptimizer:\u001b[0m AdamW(lr=0.002, momentum=0.9) with parameter groups 106 weight(decay=0.0), 113 weight(decay=0.000515625), 112 bias(decay=0.0)\n",
            "Image sizes 640 train, 640 val\n",
            "Using 2 dataloader workers\n",
            "Logging results to \u001b[1m/content/drive/MyDrive/yolo_train_logs/yolov11m_exp1_colab\u001b[0m\n",
            "Starting training for 40 epochs...\n",
            "\n",
            "      Epoch    GPU_mem   box_loss   cls_loss   dfl_loss  Instances       Size\n"
          ]
        },
        {
          "name": "stderr",
          "output_type": "stream",
          "text": [
            "       1/40      3.25G      1.963      2.197      1.974          3        640: 100%|██████████| 1397/1397 [05:56<00:00,  3.92it/s]\n",
            "                 Class     Images  Instances      Box(P          R      mAP50  mAP50-95): 100%|██████████| 126/126 [00:25<00:00,  4.88it/s]\n"
          ]
        },
        {
          "name": "stdout",
          "output_type": "stream",
          "text": [
            "                   all       1505       1581      0.323      0.373      0.258      0.108\n",
            "\n",
            "      Epoch    GPU_mem   box_loss   cls_loss   dfl_loss  Instances       Size\n"
          ]
        },
        {
          "name": "stderr",
          "output_type": "stream",
          "text": [
            "       2/40      3.82G      1.959      2.173      1.969          7        640: 100%|██████████| 1397/1397 [05:49<00:00,  3.99it/s]\n",
            "                 Class     Images  Instances      Box(P          R      mAP50  mAP50-95): 100%|██████████| 126/126 [00:24<00:00,  5.24it/s]"
          ]
        },
        {
          "name": "stdout",
          "output_type": "stream",
          "text": [
            "                   all       1505       1581      0.501      0.398      0.435      0.202\n"
          ]
        },
        {
          "name": "stderr",
          "output_type": "stream",
          "text": [
            "\n"
          ]
        },
        {
          "name": "stdout",
          "output_type": "stream",
          "text": [
            "\n",
            "      Epoch    GPU_mem   box_loss   cls_loss   dfl_loss  Instances       Size\n"
          ]
        },
        {
          "name": "stderr",
          "output_type": "stream",
          "text": [
            "       3/40      3.82G      1.865      2.026      1.891          6        640: 100%|██████████| 1397/1397 [05:48<00:00,  4.01it/s]\n",
            "                 Class     Images  Instances      Box(P          R      mAP50  mAP50-95): 100%|██████████| 126/126 [00:24<00:00,  5.15it/s]"
          ]
        },
        {
          "name": "stdout",
          "output_type": "stream",
          "text": [
            "                   all       1505       1581      0.595      0.509      0.593      0.311\n"
          ]
        },
        {
          "name": "stderr",
          "output_type": "stream",
          "text": [
            "\n"
          ]
        },
        {
          "name": "stdout",
          "output_type": "stream",
          "text": [
            "\n",
            "      Epoch    GPU_mem   box_loss   cls_loss   dfl_loss  Instances       Size\n"
          ]
        },
        {
          "name": "stderr",
          "output_type": "stream",
          "text": [
            "       4/40      3.82G      1.794      1.863      1.819          2        640: 100%|██████████| 1397/1397 [05:48<00:00,  4.01it/s]\n",
            "                 Class     Images  Instances      Box(P          R      mAP50  mAP50-95): 100%|██████████| 126/126 [00:24<00:00,  5.14it/s]"
          ]
        },
        {
          "name": "stdout",
          "output_type": "stream",
          "text": [
            "                   all       1505       1581      0.645      0.595      0.662      0.348\n"
          ]
        },
        {
          "name": "stderr",
          "output_type": "stream",
          "text": [
            "\n"
          ]
        },
        {
          "name": "stdout",
          "output_type": "stream",
          "text": [
            "\n",
            "      Epoch    GPU_mem   box_loss   cls_loss   dfl_loss  Instances       Size\n"
          ]
        },
        {
          "name": "stderr",
          "output_type": "stream",
          "text": [
            "       5/40      3.82G      1.736      1.743      1.788          4        640: 100%|██████████| 1397/1397 [05:47<00:00,  4.02it/s]\n",
            "                 Class     Images  Instances      Box(P          R      mAP50  mAP50-95): 100%|██████████| 126/126 [00:24<00:00,  5.16it/s]"
          ]
        },
        {
          "name": "stdout",
          "output_type": "stream",
          "text": [
            "                   all       1505       1581      0.726      0.684      0.761      0.409\n"
          ]
        },
        {
          "name": "stderr",
          "output_type": "stream",
          "text": [
            "\n"
          ]
        },
        {
          "name": "stdout",
          "output_type": "stream",
          "text": [
            "\n",
            "      Epoch    GPU_mem   box_loss   cls_loss   dfl_loss  Instances       Size\n"
          ]
        },
        {
          "name": "stderr",
          "output_type": "stream",
          "text": [
            "       6/40      3.82G      1.671      1.608      1.733          5        640: 100%|██████████| 1397/1397 [05:47<00:00,  4.03it/s]\n",
            "                 Class     Images  Instances      Box(P          R      mAP50  mAP50-95): 100%|██████████| 126/126 [00:24<00:00,  5.21it/s]"
          ]
        },
        {
          "name": "stdout",
          "output_type": "stream",
          "text": [
            "                   all       1505       1581      0.725      0.651      0.737      0.402\n"
          ]
        },
        {
          "name": "stderr",
          "output_type": "stream",
          "text": [
            "\n"
          ]
        },
        {
          "name": "stdout",
          "output_type": "stream",
          "text": [
            "\n",
            "      Epoch    GPU_mem   box_loss   cls_loss   dfl_loss  Instances       Size\n"
          ]
        },
        {
          "name": "stderr",
          "output_type": "stream",
          "text": [
            "       7/40      3.82G      1.646      1.557      1.715          5        640: 100%|██████████| 1397/1397 [05:46<00:00,  4.03it/s]\n",
            "                 Class     Images  Instances      Box(P          R      mAP50  mAP50-95): 100%|██████████| 126/126 [00:24<00:00,  5.17it/s]"
          ]
        },
        {
          "name": "stdout",
          "output_type": "stream",
          "text": [
            "                   all       1505       1581      0.758      0.651      0.748      0.413\n"
          ]
        },
        {
          "name": "stderr",
          "output_type": "stream",
          "text": [
            "\n"
          ]
        },
        {
          "name": "stdout",
          "output_type": "stream",
          "text": [
            "\n",
            "      Epoch    GPU_mem   box_loss   cls_loss   dfl_loss  Instances       Size\n"
          ]
        },
        {
          "name": "stderr",
          "output_type": "stream",
          "text": [
            "       8/40      3.82G      1.608      1.495       1.68          3        640: 100%|██████████| 1397/1397 [05:47<00:00,  4.02it/s]\n",
            "                 Class     Images  Instances      Box(P          R      mAP50  mAP50-95): 100%|██████████| 126/126 [00:24<00:00,  5.18it/s]"
          ]
        },
        {
          "name": "stdout",
          "output_type": "stream",
          "text": [
            "                   all       1505       1581      0.785      0.682      0.785      0.449\n"
          ]
        },
        {
          "name": "stderr",
          "output_type": "stream",
          "text": [
            "\n"
          ]
        },
        {
          "name": "stdout",
          "output_type": "stream",
          "text": [
            "\n",
            "      Epoch    GPU_mem   box_loss   cls_loss   dfl_loss  Instances       Size\n"
          ]
        },
        {
          "name": "stderr",
          "output_type": "stream",
          "text": [
            "       9/40      3.82G      1.579      1.442      1.659          2        640: 100%|██████████| 1397/1397 [05:47<00:00,  4.02it/s]\n",
            "                 Class     Images  Instances      Box(P          R      mAP50  mAP50-95): 100%|██████████| 126/126 [00:24<00:00,  5.21it/s]"
          ]
        },
        {
          "name": "stdout",
          "output_type": "stream",
          "text": [
            "                   all       1505       1581      0.798       0.72      0.809      0.489\n"
          ]
        },
        {
          "name": "stderr",
          "output_type": "stream",
          "text": [
            "\n"
          ]
        },
        {
          "name": "stdout",
          "output_type": "stream",
          "text": [
            "\n",
            "      Epoch    GPU_mem   box_loss   cls_loss   dfl_loss  Instances       Size\n"
          ]
        },
        {
          "name": "stderr",
          "output_type": "stream",
          "text": [
            "      10/40      3.82G      1.552       1.37      1.641          6        640: 100%|██████████| 1397/1397 [05:47<00:00,  4.02it/s]\n",
            "                 Class     Images  Instances      Box(P          R      mAP50  mAP50-95): 100%|██████████| 126/126 [00:24<00:00,  5.15it/s]"
          ]
        },
        {
          "name": "stdout",
          "output_type": "stream",
          "text": [
            "                   all       1505       1581      0.798      0.694      0.812      0.495\n"
          ]
        },
        {
          "name": "stderr",
          "output_type": "stream",
          "text": [
            "\n"
          ]
        },
        {
          "name": "stdout",
          "output_type": "stream",
          "text": [
            "\n",
            "      Epoch    GPU_mem   box_loss   cls_loss   dfl_loss  Instances       Size\n"
          ]
        },
        {
          "name": "stderr",
          "output_type": "stream",
          "text": [
            "      11/40      3.82G      1.532      1.328      1.624          0        640: 100%|██████████| 1397/1397 [05:47<00:00,  4.02it/s]\n",
            "                 Class     Images  Instances      Box(P          R      mAP50  mAP50-95): 100%|██████████| 126/126 [00:24<00:00,  5.18it/s]"
          ]
        },
        {
          "name": "stdout",
          "output_type": "stream",
          "text": [
            "                   all       1505       1581      0.809      0.748      0.845      0.513\n"
          ]
        },
        {
          "name": "stderr",
          "output_type": "stream",
          "text": [
            "\n"
          ]
        },
        {
          "name": "stdout",
          "output_type": "stream",
          "text": [
            "\n",
            "      Epoch    GPU_mem   box_loss   cls_loss   dfl_loss  Instances       Size\n"
          ]
        },
        {
          "name": "stderr",
          "output_type": "stream",
          "text": [
            "      12/40      3.82G      1.511      1.312      1.617          3        640: 100%|██████████| 1397/1397 [05:48<00:00,  4.01it/s]\n",
            "                 Class     Images  Instances      Box(P          R      mAP50  mAP50-95): 100%|██████████| 126/126 [00:24<00:00,  5.22it/s]"
          ]
        },
        {
          "name": "stdout",
          "output_type": "stream",
          "text": [
            "                   all       1505       1581      0.821      0.748      0.845      0.517\n"
          ]
        },
        {
          "name": "stderr",
          "output_type": "stream",
          "text": [
            "\n"
          ]
        },
        {
          "name": "stdout",
          "output_type": "stream",
          "text": [
            "\n",
            "      Epoch    GPU_mem   box_loss   cls_loss   dfl_loss  Instances       Size\n"
          ]
        },
        {
          "name": "stderr",
          "output_type": "stream",
          "text": [
            "      13/40      3.82G      1.484      1.254       1.59          4        640: 100%|██████████| 1397/1397 [05:48<00:00,  4.01it/s]\n",
            "                 Class     Images  Instances      Box(P          R      mAP50  mAP50-95): 100%|██████████| 126/126 [00:24<00:00,  5.18it/s]"
          ]
        },
        {
          "name": "stdout",
          "output_type": "stream",
          "text": [
            "                   all       1505       1581      0.844      0.808      0.879      0.544\n"
          ]
        },
        {
          "name": "stderr",
          "output_type": "stream",
          "text": [
            "\n"
          ]
        },
        {
          "name": "stdout",
          "output_type": "stream",
          "text": [
            "\n",
            "      Epoch    GPU_mem   box_loss   cls_loss   dfl_loss  Instances       Size\n"
          ]
        },
        {
          "name": "stderr",
          "output_type": "stream",
          "text": [
            "      14/40      3.82G      1.465      1.235      1.581          4        640: 100%|██████████| 1397/1397 [05:47<00:00,  4.02it/s]\n",
            "                 Class     Images  Instances      Box(P          R      mAP50  mAP50-95): 100%|██████████| 126/126 [00:24<00:00,  5.18it/s]"
          ]
        },
        {
          "name": "stdout",
          "output_type": "stream",
          "text": [
            "                   all       1505       1581      0.851      0.807      0.888      0.562\n"
          ]
        },
        {
          "name": "stderr",
          "output_type": "stream",
          "text": [
            "\n"
          ]
        },
        {
          "name": "stdout",
          "output_type": "stream",
          "text": [
            "\n",
            "      Epoch    GPU_mem   box_loss   cls_loss   dfl_loss  Instances       Size\n"
          ]
        },
        {
          "name": "stderr",
          "output_type": "stream",
          "text": [
            "      15/40      3.82G       1.46      1.224      1.582          1        640: 100%|██████████| 1397/1397 [05:47<00:00,  4.02it/s]\n",
            "                 Class     Images  Instances      Box(P          R      mAP50  mAP50-95): 100%|██████████| 126/126 [00:24<00:00,  5.16it/s]"
          ]
        },
        {
          "name": "stdout",
          "output_type": "stream",
          "text": [
            "                   all       1505       1581      0.839      0.784      0.875      0.559\n"
          ]
        },
        {
          "name": "stderr",
          "output_type": "stream",
          "text": [
            "\n"
          ]
        },
        {
          "name": "stdout",
          "output_type": "stream",
          "text": [
            "\n",
            "      Epoch    GPU_mem   box_loss   cls_loss   dfl_loss  Instances       Size\n"
          ]
        },
        {
          "name": "stderr",
          "output_type": "stream",
          "text": [
            "      16/40      3.82G      1.444      1.202      1.565          3        640: 100%|██████████| 1397/1397 [05:44<00:00,  4.05it/s]\n",
            "                 Class     Images  Instances      Box(P          R      mAP50  mAP50-95): 100%|██████████| 126/126 [00:24<00:00,  5.17it/s]"
          ]
        },
        {
          "name": "stdout",
          "output_type": "stream",
          "text": [
            "                   all       1505       1581      0.849      0.773      0.864      0.555\n"
          ]
        },
        {
          "name": "stderr",
          "output_type": "stream",
          "text": [
            "\n"
          ]
        },
        {
          "name": "stdout",
          "output_type": "stream",
          "text": [
            "\n",
            "      Epoch    GPU_mem   box_loss   cls_loss   dfl_loss  Instances       Size\n"
          ]
        },
        {
          "name": "stderr",
          "output_type": "stream",
          "text": [
            "      17/40      3.82G      1.431      1.149      1.554          4        640: 100%|██████████| 1397/1397 [05:45<00:00,  4.04it/s]\n",
            "                 Class     Images  Instances      Box(P          R      mAP50  mAP50-95): 100%|██████████| 126/126 [00:24<00:00,  5.14it/s]"
          ]
        },
        {
          "name": "stdout",
          "output_type": "stream",
          "text": [
            "                   all       1505       1581      0.868      0.805      0.886       0.57\n"
          ]
        },
        {
          "name": "stderr",
          "output_type": "stream",
          "text": [
            "\n"
          ]
        },
        {
          "name": "stdout",
          "output_type": "stream",
          "text": [
            "\n",
            "      Epoch    GPU_mem   box_loss   cls_loss   dfl_loss  Instances       Size\n"
          ]
        },
        {
          "name": "stderr",
          "output_type": "stream",
          "text": [
            "      18/40      3.82G       1.42      1.138      1.546          8        640: 100%|██████████| 1397/1397 [05:48<00:00,  4.01it/s]\n",
            "                 Class     Images  Instances      Box(P          R      mAP50  mAP50-95): 100%|██████████| 126/126 [00:24<00:00,  5.24it/s]"
          ]
        },
        {
          "name": "stdout",
          "output_type": "stream",
          "text": [
            "                   all       1505       1581      0.866      0.781      0.873      0.559\n"
          ]
        },
        {
          "name": "stderr",
          "output_type": "stream",
          "text": [
            "\n"
          ]
        },
        {
          "name": "stdout",
          "output_type": "stream",
          "text": [
            "\n",
            "      Epoch    GPU_mem   box_loss   cls_loss   dfl_loss  Instances       Size\n"
          ]
        },
        {
          "name": "stderr",
          "output_type": "stream",
          "text": [
            "      19/40      3.82G      1.395      1.099      1.521          1        640: 100%|██████████| 1397/1397 [05:47<00:00,  4.03it/s]\n",
            "                 Class     Images  Instances      Box(P          R      mAP50  mAP50-95): 100%|██████████| 126/126 [00:24<00:00,  5.17it/s]"
          ]
        },
        {
          "name": "stdout",
          "output_type": "stream",
          "text": [
            "                   all       1505       1581      0.867      0.826      0.898      0.575\n"
          ]
        },
        {
          "name": "stderr",
          "output_type": "stream",
          "text": [
            "\n"
          ]
        },
        {
          "name": "stdout",
          "output_type": "stream",
          "text": [
            "\n",
            "      Epoch    GPU_mem   box_loss   cls_loss   dfl_loss  Instances       Size\n"
          ]
        },
        {
          "name": "stderr",
          "output_type": "stream",
          "text": [
            "      20/40      3.82G      1.373      1.087      1.503          5        640: 100%|██████████| 1397/1397 [05:47<00:00,  4.02it/s]\n",
            "                 Class     Images  Instances      Box(P          R      mAP50  mAP50-95): 100%|██████████| 126/126 [00:24<00:00,  5.16it/s]"
          ]
        },
        {
          "name": "stdout",
          "output_type": "stream",
          "text": [
            "                   all       1505       1581      0.883      0.819      0.898      0.569\n"
          ]
        },
        {
          "name": "stderr",
          "output_type": "stream",
          "text": [
            "\n"
          ]
        },
        {
          "name": "stdout",
          "output_type": "stream",
          "text": [
            "\n",
            "      Epoch    GPU_mem   box_loss   cls_loss   dfl_loss  Instances       Size\n"
          ]
        },
        {
          "name": "stderr",
          "output_type": "stream",
          "text": [
            "      21/40      3.82G       1.36      1.056      1.495          3        640: 100%|██████████| 1397/1397 [05:47<00:00,  4.03it/s]\n",
            "                 Class     Images  Instances      Box(P          R      mAP50  mAP50-95): 100%|██████████| 126/126 [00:24<00:00,  5.18it/s]"
          ]
        },
        {
          "name": "stdout",
          "output_type": "stream",
          "text": [
            "                   all       1505       1581      0.897      0.817      0.905        0.6\n"
          ]
        },
        {
          "name": "stderr",
          "output_type": "stream",
          "text": [
            "\n"
          ]
        },
        {
          "name": "stdout",
          "output_type": "stream",
          "text": [
            "\n",
            "      Epoch    GPU_mem   box_loss   cls_loss   dfl_loss  Instances       Size\n"
          ]
        },
        {
          "name": "stderr",
          "output_type": "stream",
          "text": [
            "      22/40      3.82G      1.358      1.038      1.496          1        640: 100%|██████████| 1397/1397 [05:48<00:00,  4.01it/s]\n",
            "                 Class     Images  Instances      Box(P          R      mAP50  mAP50-95): 100%|██████████| 126/126 [00:23<00:00,  5.29it/s]"
          ]
        },
        {
          "name": "stdout",
          "output_type": "stream",
          "text": [
            "                   all       1505       1581      0.908       0.82      0.908      0.605\n"
          ]
        },
        {
          "name": "stderr",
          "output_type": "stream",
          "text": [
            "\n"
          ]
        },
        {
          "name": "stdout",
          "output_type": "stream",
          "text": [
            "\n",
            "      Epoch    GPU_mem   box_loss   cls_loss   dfl_loss  Instances       Size\n"
          ]
        },
        {
          "name": "stderr",
          "output_type": "stream",
          "text": [
            "      23/40      3.82G      1.342      1.024      1.486          3        640: 100%|██████████| 1397/1397 [05:47<00:00,  4.02it/s]\n",
            "                 Class     Images  Instances      Box(P          R      mAP50  mAP50-95): 100%|██████████| 126/126 [00:24<00:00,  5.20it/s]"
          ]
        },
        {
          "name": "stdout",
          "output_type": "stream",
          "text": [
            "                   all       1505       1581      0.907      0.819      0.912      0.603\n"
          ]
        },
        {
          "name": "stderr",
          "output_type": "stream",
          "text": [
            "\n"
          ]
        },
        {
          "name": "stdout",
          "output_type": "stream",
          "text": [
            "\n",
            "      Epoch    GPU_mem   box_loss   cls_loss   dfl_loss  Instances       Size\n"
          ]
        },
        {
          "name": "stderr",
          "output_type": "stream",
          "text": [
            "      24/40      3.82G      1.332      1.006      1.477          6        640: 100%|██████████| 1397/1397 [05:47<00:00,  4.02it/s]\n",
            "                 Class     Images  Instances      Box(P          R      mAP50  mAP50-95): 100%|██████████| 126/126 [00:24<00:00,  5.17it/s]"
          ]
        },
        {
          "name": "stdout",
          "output_type": "stream",
          "text": [
            "                   all       1505       1581      0.904      0.844      0.916      0.604\n"
          ]
        },
        {
          "name": "stderr",
          "output_type": "stream",
          "text": [
            "\n"
          ]
        },
        {
          "name": "stdout",
          "output_type": "stream",
          "text": [
            "\n",
            "      Epoch    GPU_mem   box_loss   cls_loss   dfl_loss  Instances       Size\n"
          ]
        },
        {
          "name": "stderr",
          "output_type": "stream",
          "text": [
            "      25/40      3.82G      1.315     0.9806      1.463          5        640: 100%|██████████| 1397/1397 [05:47<00:00,  4.02it/s]\n",
            "                 Class     Images  Instances      Box(P          R      mAP50  mAP50-95): 100%|██████████| 126/126 [00:24<00:00,  5.17it/s]"
          ]
        },
        {
          "name": "stdout",
          "output_type": "stream",
          "text": [
            "                   all       1505       1581      0.902      0.817      0.915      0.615\n"
          ]
        },
        {
          "name": "stderr",
          "output_type": "stream",
          "text": [
            "\n"
          ]
        },
        {
          "name": "stdout",
          "output_type": "stream",
          "text": [
            "\n",
            "      Epoch    GPU_mem   box_loss   cls_loss   dfl_loss  Instances       Size\n"
          ]
        },
        {
          "name": "stderr",
          "output_type": "stream",
          "text": [
            "      26/40      3.82G       1.31     0.9712      1.463          4        640: 100%|██████████| 1397/1397 [05:48<00:00,  4.00it/s]\n",
            "                 Class     Images  Instances      Box(P          R      mAP50  mAP50-95): 100%|██████████| 126/126 [00:24<00:00,  5.21it/s]"
          ]
        },
        {
          "name": "stdout",
          "output_type": "stream",
          "text": [
            "                   all       1505       1581      0.905      0.825      0.915      0.613\n"
          ]
        },
        {
          "name": "stderr",
          "output_type": "stream",
          "text": [
            "\n"
          ]
        },
        {
          "name": "stdout",
          "output_type": "stream",
          "text": [
            "\n",
            "      Epoch    GPU_mem   box_loss   cls_loss   dfl_loss  Instances       Size\n"
          ]
        },
        {
          "name": "stderr",
          "output_type": "stream",
          "text": [
            "      27/40      3.82G      1.289     0.9602      1.449          4        640: 100%|██████████| 1397/1397 [05:47<00:00,  4.02it/s]\n",
            "                 Class     Images  Instances      Box(P          R      mAP50  mAP50-95): 100%|██████████| 126/126 [00:24<00:00,  5.20it/s]"
          ]
        },
        {
          "name": "stdout",
          "output_type": "stream",
          "text": [
            "                   all       1505       1581      0.906      0.835      0.917      0.624\n"
          ]
        },
        {
          "name": "stderr",
          "output_type": "stream",
          "text": [
            "\n"
          ]
        },
        {
          "name": "stdout",
          "output_type": "stream",
          "text": [
            "\n",
            "      Epoch    GPU_mem   box_loss   cls_loss   dfl_loss  Instances       Size\n"
          ]
        },
        {
          "name": "stderr",
          "output_type": "stream",
          "text": [
            "      28/40      3.82G      1.294     0.9582      1.452          3        640: 100%|██████████| 1397/1397 [05:48<00:00,  4.01it/s]\n",
            "                 Class     Images  Instances      Box(P          R      mAP50  mAP50-95): 100%|██████████| 126/126 [00:24<00:00,  5.15it/s]"
          ]
        },
        {
          "name": "stdout",
          "output_type": "stream",
          "text": [
            "                   all       1505       1581      0.918      0.834      0.926      0.616\n"
          ]
        },
        {
          "name": "stderr",
          "output_type": "stream",
          "text": [
            "\n"
          ]
        },
        {
          "name": "stdout",
          "output_type": "stream",
          "text": [
            "\n",
            "      Epoch    GPU_mem   box_loss   cls_loss   dfl_loss  Instances       Size\n"
          ]
        },
        {
          "name": "stderr",
          "output_type": "stream",
          "text": [
            "      29/40      3.82G      1.265     0.9296      1.434          1        640: 100%|██████████| 1397/1397 [05:47<00:00,  4.02it/s]\n",
            "                 Class     Images  Instances      Box(P          R      mAP50  mAP50-95): 100%|██████████| 126/126 [00:24<00:00,  5.15it/s]"
          ]
        },
        {
          "name": "stdout",
          "output_type": "stream",
          "text": [
            "                   all       1505       1581        0.9      0.851      0.925      0.623\n"
          ]
        },
        {
          "name": "stderr",
          "output_type": "stream",
          "text": [
            "\n"
          ]
        },
        {
          "name": "stdout",
          "output_type": "stream",
          "text": [
            "\n",
            "      Epoch    GPU_mem   box_loss   cls_loss   dfl_loss  Instances       Size\n"
          ]
        },
        {
          "name": "stderr",
          "output_type": "stream",
          "text": [
            "      30/40      3.82G      1.247     0.9144      1.426          3        640: 100%|██████████| 1397/1397 [05:49<00:00,  4.00it/s]\n",
            "                 Class     Images  Instances      Box(P          R      mAP50  mAP50-95): 100%|██████████| 126/126 [00:24<00:00,  5.24it/s]"
          ]
        },
        {
          "name": "stdout",
          "output_type": "stream",
          "text": [
            "                   all       1505       1581       0.89      0.864      0.933      0.636\n"
          ]
        },
        {
          "name": "stderr",
          "output_type": "stream",
          "text": [
            "\n"
          ]
        },
        {
          "name": "stdout",
          "output_type": "stream",
          "text": [
            "Closing dataloader mosaic\n",
            "\u001b[34m\u001b[1malbumentations: \u001b[0mBlur(p=0.01, blur_limit=(3, 7)), MedianBlur(p=0.01, blur_limit=(3, 7)), ToGray(p=0.01, method='weighted_average', num_output_channels=3), CLAHE(p=0.01, clip_limit=(1.0, 4.0), tile_grid_size=(8, 8))\n",
            "\n",
            "      Epoch    GPU_mem   box_loss   cls_loss   dfl_loss  Instances       Size\n"
          ]
        },
        {
          "name": "stderr",
          "output_type": "stream",
          "text": [
            "      31/40      3.82G      1.219     0.7024      1.417          2        640: 100%|██████████| 1397/1397 [05:47<00:00,  4.02it/s]\n",
            "                 Class     Images  Instances      Box(P          R      mAP50  mAP50-95): 100%|██████████| 126/126 [00:24<00:00,  5.13it/s]"
          ]
        },
        {
          "name": "stdout",
          "output_type": "stream",
          "text": [
            "                   all       1505       1581      0.902      0.868      0.928      0.638\n"
          ]
        },
        {
          "name": "stderr",
          "output_type": "stream",
          "text": [
            "\n"
          ]
        },
        {
          "name": "stdout",
          "output_type": "stream",
          "text": [
            "\n",
            "      Epoch    GPU_mem   box_loss   cls_loss   dfl_loss  Instances       Size\n"
          ]
        },
        {
          "name": "stderr",
          "output_type": "stream",
          "text": [
            "      32/40      3.82G      1.192     0.6846      1.403          2        640: 100%|██████████| 1397/1397 [05:49<00:00,  4.00it/s]\n",
            "                 Class     Images  Instances      Box(P          R      mAP50  mAP50-95): 100%|██████████| 126/126 [00:24<00:00,  5.21it/s]"
          ]
        },
        {
          "name": "stdout",
          "output_type": "stream",
          "text": [
            "                   all       1505       1581      0.922      0.857      0.934      0.646\n"
          ]
        },
        {
          "name": "stderr",
          "output_type": "stream",
          "text": [
            "\n"
          ]
        },
        {
          "name": "stdout",
          "output_type": "stream",
          "text": [
            "\n",
            "      Epoch    GPU_mem   box_loss   cls_loss   dfl_loss  Instances       Size\n"
          ]
        },
        {
          "name": "stderr",
          "output_type": "stream",
          "text": [
            "      33/40      3.82G      1.169     0.6624      1.376          2        640: 100%|██████████| 1397/1397 [05:47<00:00,  4.02it/s]\n",
            "                 Class     Images  Instances      Box(P          R      mAP50  mAP50-95): 100%|██████████| 126/126 [00:24<00:00,  5.16it/s]"
          ]
        },
        {
          "name": "stdout",
          "output_type": "stream",
          "text": [
            "                   all       1505       1581      0.928      0.846      0.937      0.637\n"
          ]
        },
        {
          "name": "stderr",
          "output_type": "stream",
          "text": [
            "\n"
          ]
        },
        {
          "name": "stdout",
          "output_type": "stream",
          "text": [
            "\n",
            "      Epoch    GPU_mem   box_loss   cls_loss   dfl_loss  Instances       Size\n"
          ]
        },
        {
          "name": "stderr",
          "output_type": "stream",
          "text": [
            "      34/40      3.82G      1.154     0.6438      1.372          2        640: 100%|██████████| 1397/1397 [05:46<00:00,  4.03it/s]\n",
            "                 Class     Images  Instances      Box(P          R      mAP50  mAP50-95): 100%|██████████| 126/126 [00:24<00:00,  5.15it/s]"
          ]
        },
        {
          "name": "stdout",
          "output_type": "stream",
          "text": [
            "                   all       1505       1581      0.909      0.868      0.936      0.648\n"
          ]
        },
        {
          "name": "stderr",
          "output_type": "stream",
          "text": [
            "\n"
          ]
        },
        {
          "name": "stdout",
          "output_type": "stream",
          "text": [
            "\n",
            "      Epoch    GPU_mem   box_loss   cls_loss   dfl_loss  Instances       Size\n"
          ]
        },
        {
          "name": "stderr",
          "output_type": "stream",
          "text": [
            "      35/40      3.82G      1.138     0.6362      1.356          2        640: 100%|██████████| 1397/1397 [05:46<00:00,  4.03it/s]\n",
            "                 Class     Images  Instances      Box(P          R      mAP50  mAP50-95): 100%|██████████| 126/126 [00:24<00:00,  5.14it/s]"
          ]
        },
        {
          "name": "stdout",
          "output_type": "stream",
          "text": [
            "                   all       1505       1581       0.92      0.871       0.94      0.654\n"
          ]
        },
        {
          "name": "stderr",
          "output_type": "stream",
          "text": [
            "\n"
          ]
        },
        {
          "name": "stdout",
          "output_type": "stream",
          "text": [
            "\n",
            "      Epoch    GPU_mem   box_loss   cls_loss   dfl_loss  Instances       Size\n"
          ]
        },
        {
          "name": "stderr",
          "output_type": "stream",
          "text": [
            "      36/40      3.82G      1.127     0.6162      1.349          2        640: 100%|██████████| 1397/1397 [05:47<00:00,  4.02it/s]\n",
            "                 Class     Images  Instances      Box(P          R      mAP50  mAP50-95): 100%|██████████| 126/126 [00:24<00:00,  5.20it/s]"
          ]
        },
        {
          "name": "stdout",
          "output_type": "stream",
          "text": [
            "                   all       1505       1581      0.917      0.876      0.943       0.66\n"
          ]
        },
        {
          "name": "stderr",
          "output_type": "stream",
          "text": [
            "\n"
          ]
        },
        {
          "name": "stdout",
          "output_type": "stream",
          "text": [
            "\n",
            "      Epoch    GPU_mem   box_loss   cls_loss   dfl_loss  Instances       Size\n"
          ]
        },
        {
          "name": "stderr",
          "output_type": "stream",
          "text": [
            "      37/40      3.82G      1.103     0.6031      1.326          2        640: 100%|██████████| 1397/1397 [05:47<00:00,  4.02it/s]\n",
            "                 Class     Images  Instances      Box(P          R      mAP50  mAP50-95): 100%|██████████| 126/126 [00:24<00:00,  5.15it/s]"
          ]
        },
        {
          "name": "stdout",
          "output_type": "stream",
          "text": [
            "                   all       1505       1581      0.921      0.868       0.94      0.657\n"
          ]
        },
        {
          "name": "stderr",
          "output_type": "stream",
          "text": [
            "\n"
          ]
        },
        {
          "name": "stdout",
          "output_type": "stream",
          "text": [
            "\n",
            "      Epoch    GPU_mem   box_loss   cls_loss   dfl_loss  Instances       Size\n"
          ]
        },
        {
          "name": "stderr",
          "output_type": "stream",
          "text": [
            "      38/40      3.82G      1.088     0.5903      1.317          2        640: 100%|██████████| 1397/1397 [05:46<00:00,  4.03it/s]\n",
            "                 Class     Images  Instances      Box(P          R      mAP50  mAP50-95): 100%|██████████| 126/126 [00:24<00:00,  5.18it/s]"
          ]
        },
        {
          "name": "stdout",
          "output_type": "stream",
          "text": [
            "                   all       1505       1581      0.916      0.882      0.943      0.659\n"
          ]
        },
        {
          "name": "stderr",
          "output_type": "stream",
          "text": [
            "\n"
          ]
        },
        {
          "name": "stdout",
          "output_type": "stream",
          "text": [
            "\n",
            "      Epoch    GPU_mem   box_loss   cls_loss   dfl_loss  Instances       Size\n"
          ]
        },
        {
          "name": "stderr",
          "output_type": "stream",
          "text": [
            "      39/40      3.82G      1.085     0.5796      1.312          2        640: 100%|██████████| 1397/1397 [05:55<00:00,  3.93it/s]\n",
            "                 Class     Images  Instances      Box(P          R      mAP50  mAP50-95): 100%|██████████| 126/126 [00:26<00:00,  4.73it/s]"
          ]
        },
        {
          "name": "stdout",
          "output_type": "stream",
          "text": [
            "                   all       1505       1581      0.935      0.865      0.943      0.657\n"
          ]
        },
        {
          "name": "stderr",
          "output_type": "stream",
          "text": [
            "\n"
          ]
        },
        {
          "name": "stdout",
          "output_type": "stream",
          "text": [
            "\n",
            "      Epoch    GPU_mem   box_loss   cls_loss   dfl_loss  Instances       Size\n"
          ]
        },
        {
          "name": "stderr",
          "output_type": "stream",
          "text": [
            "      40/40      3.82G      1.061     0.5723      1.295          2        640: 100%|██████████| 1397/1397 [05:47<00:00,  4.02it/s]\n",
            "                 Class     Images  Instances      Box(P          R      mAP50  mAP50-95): 100%|██████████| 126/126 [00:24<00:00,  5.21it/s]"
          ]
        },
        {
          "name": "stdout",
          "output_type": "stream",
          "text": [
            "                   all       1505       1581      0.929       0.87      0.942      0.657\n"
          ]
        },
        {
          "name": "stderr",
          "output_type": "stream",
          "text": [
            "\n"
          ]
        },
        {
          "name": "stdout",
          "output_type": "stream",
          "text": [
            "\n",
            "40 epochs completed in 4.155 hours.\n",
            "Optimizer stripped from /content/drive/MyDrive/yolo_train_logs/yolov11m_exp1_colab/weights/last.pt, 40.5MB\n",
            "Optimizer stripped from /content/drive/MyDrive/yolo_train_logs/yolov11m_exp1_colab/weights/best.pt, 40.5MB\n",
            "\n",
            "Validating /content/drive/MyDrive/yolo_train_logs/yolov11m_exp1_colab/weights/best.pt...\n",
            "Ultralytics 8.3.155 🚀 Python-3.11.13 torch-2.5.1+cu121 CUDA:0 (Tesla T4, 15095MiB)\n",
            "YOLO11m summary (fused): 125 layers, 20,030,803 parameters, 0 gradients, 67.6 GFLOPs\n"
          ]
        },
        {
          "name": "stderr",
          "output_type": "stream",
          "text": [
            "                 Class     Images  Instances      Box(P          R      mAP50  mAP50-95): 100%|██████████| 126/126 [00:24<00:00,  5.16it/s]\n"
          ]
        },
        {
          "name": "stdout",
          "output_type": "stream",
          "text": [
            "                   all       1505       1581      0.917      0.876      0.943      0.661\n",
            "Speed: 0.3ms preprocess, 11.2ms inference, 0.0ms loss, 1.4ms postprocess per image\n",
            "Results saved to \u001b[1m/content/drive/MyDrive/yolo_train_logs/yolov11m_exp1_colab\u001b[0m\n"
          ]
        }
      ],
      "source": [
        "results = model.train(\n",
        "    data=path,\n",
        "    epochs=40,\n",
        "    batch=6,\n",
        "    name=\"yolov11m_exp1_colab\",\n",
        "    project=\"/content/drive/MyDrive/yolo_train_logs\",\n",
        "    device=0,\n",
        "    save=True,\n",
        "    patience=5,\n",
        "    verbose=True,\n",
        "    workers=2,\n",
        "    resume=False,\n",
        "    exist_ok=True\n",
        ")\n"
      ]
    },
    {
      "cell_type": "code",
      "execution_count": 10,
      "id": "Vl1AGFYRbtW1",
      "metadata": {
        "id": "Vl1AGFYRbtW1"
      },
      "outputs": [],
      "source": [
        "# results = model.train(\n",
        "#     data=path,\n",
        "#     epochs=100,\n",
        "#     batch=7,\n",
        "#     name=\"yolov11m_custom_exp_final\",\n",
        "#     # project=\"runs/train\",\n",
        "#     device=0,\n",
        "#     resume=True  # <--- Resume from last.pt\n",
        "# )\n"
      ]
    },
    {
      "cell_type": "code",
      "execution_count": 12,
      "id": "kW7tzYjMdV8T",
      "metadata": {
        "id": "kW7tzYjMdV8T"
      },
      "outputs": [],
      "source": [
        "# import shutil\n",
        "# from google.colab import files\n",
        "\n",
        "# shutil.copy(f\"{drive_path}/custom_model_exp1/weights/best.pt\", \"/content/best.pt\")\n",
        "# files.download(\"/content/best.pt\")"
      ]
    },
    {
      "cell_type": "code",
      "execution_count": 13,
      "id": "af0a8a82",
      "metadata": {
        "colab": {
          "base_uri": "https://localhost:8080/"
        },
        "id": "af0a8a82",
        "outputId": "98453bb9-8227-4851-91b7-c5a5bc70dc8a"
      },
      "outputs": [
        {
          "name": "stdout",
          "output_type": "stream",
          "text": [
            "Ultralytics 8.3.155 🚀 Python-3.11.13 torch-2.5.1+cu121 CUDA:0 (Tesla T4, 15095MiB)\n",
            "YOLO11m summary (fused): 125 layers, 20,030,803 parameters, 0 gradients, 67.6 GFLOPs\n",
            "\u001b[34m\u001b[1mval: \u001b[0mFast image access ✅ (ping: 0.0±0.0 ms, read: 994.7±322.2 MB/s, size: 28.2 KB)\n"
          ]
        },
        {
          "name": "stderr",
          "output_type": "stream",
          "text": [
            "\u001b[34m\u001b[1mval: \u001b[0mScanning /content/merged_data/valid/labels.cache... 1505 images, 0 backgrounds, 0 corrupt: 100%|██████████| 1505/1505 [00:00<?, ?it/s]\n",
            "                 Class     Images  Instances      Box(P          R      mAP50  mAP50-95): 100%|██████████| 251/251 [00:46<00:00,  5.36it/s]\n"
          ]
        },
        {
          "name": "stdout",
          "output_type": "stream",
          "text": [
            "                   all       1505       1581      0.917      0.875      0.942       0.66\n",
            "Speed: 0.4ms preprocess, 26.5ms inference, 0.0ms loss, 1.0ms postprocess per image\n",
            "Results saved to \u001b[1m/content/drive/MyDrive/yolo_train_logs/yolov11m_exp1_colab\u001b[0m\n"
          ]
        }
      ],
      "source": [
        "metrics = model.val()  # evaluating model performance on the validation set"
      ]
    },
    {
      "cell_type": "code",
      "execution_count": null,
      "id": "7099728a",
      "metadata": {
        "id": "7099728a"
      },
      "outputs": [],
      "source": [
        "%load_ext tensorboard\n",
        "\n",
        "# Point to the exact experiment folder\n",
        "%tensorboard --logdir /content/drive/MyDrive/yolo_train_logs/yolov11m_exp1_colab\n"
      ]
    },
    {
      "cell_type": "code",
      "execution_count": 5,
      "id": "zLkKLHDYJUBs",
      "metadata": {
        "id": "zLkKLHDYJUBs"
      },
      "outputs": [],
      "source": [
        "from ultralytics import YOLO\n",
        "\n",
        "\n",
        "model_path = \"/content/drive/MyDrive/yolo_train_logs/yolov11m_exp1_colab/weights/best.pt\"\n",
        "\n",
        "\n",
        "model = YOLO(model_path)"
      ]
    },
    {
      "cell_type": "code",
      "execution_count": 11,
      "id": "khvKZD1pJmA3",
      "metadata": {
        "colab": {
          "base_uri": "https://localhost:8080/"
        },
        "id": "khvKZD1pJmA3",
        "outputId": "0322b1ca-b88e-4974-a0b6-176d5c5637e9"
      },
      "outputs": [
        {
          "name": "stdout",
          "output_type": "stream",
          "text": [
            "Ultralytics 8.3.155 🚀 Python-3.11.13 torch-2.6.0+cu124 CPU (Intel Xeon 2.20GHz)\n",
            "YOLO11m summary (fused): 125 layers, 20,030,803 parameters, 0 gradients, 67.6 GFLOPs\n",
            "Downloading https://ultralytics.com/assets/Arial.ttf to '/root/.config/Ultralytics/Arial.ttf'...\n"
          ]
        },
        {
          "name": "stderr",
          "output_type": "stream",
          "text": [
            "100%|██████████| 755k/755k [00:00<00:00, 26.4MB/s]"
          ]
        },
        {
          "name": "stdout",
          "output_type": "stream",
          "text": [
            "\u001b[34m\u001b[1mval: \u001b[0mFast image access ✅ (ping: 0.0±0.0 ms, read: 631.7±152.5 MB/s, size: 33.9 KB)\n"
          ]
        },
        {
          "name": "stderr",
          "output_type": "stream",
          "text": [
            "\n",
            "\u001b[34m\u001b[1mval: \u001b[0mScanning /content/merged_data/valid/labels... 1505 images, 0 backgrounds, 0 corrupt: 100%|██████████| 1505/1505 [00:00<00:00, 1644.26it/s]\n"
          ]
        },
        {
          "name": "stdout",
          "output_type": "stream",
          "text": [
            "\u001b[34m\u001b[1mval: \u001b[0mNew cache created: /content/merged_data/valid/labels.cache\n"
          ]
        },
        {
          "name": "stderr",
          "output_type": "stream",
          "text": [
            "                 Class     Images  Instances      Box(P          R      mAP50  mAP50-95): 100%|██████████| 95/95 [53:50<00:00, 34.00s/it]\n"
          ]
        },
        {
          "name": "stdout",
          "output_type": "stream",
          "text": [
            "                   all       1505       1581      0.917      0.875      0.942       0.66\n",
            "Speed: 7.8ms preprocess, 2130.1ms inference, 0.0ms loss, 0.9ms postprocess per image\n",
            "Results saved to \u001b[1mruns/detect/val\u001b[0m\n"
          ]
        }
      ],
      "source": [
        "metrics = model.val(data=\"/content/merged_data/data.yaml\")"
      ]
    },
    {
      "cell_type": "code",
      "execution_count": null,
      "id": "b0a85da9",
      "metadata": {
        "id": "b0a85da9"
      },
      "outputs": [],
      "source": [
        "# printing metrics of our model\n",
        "print(f\"mAP50: {metrics.box.map50:.4f}\")\n",
        "print(f\"mAP50-95: {metrics.box.map:.4f}\")\n",
        "print(f\"Precision: {metrics.box.precision:.4f}\")\n",
        "print(f\"Recall: {metrics.box.recall:.4f}\")"
      ]
    },
    {
      "cell_type": "code",
      "execution_count": 12,
      "id": "daec402e",
      "metadata": {
        "colab": {
          "base_uri": "https://localhost:8080/"
        },
        "id": "daec402e",
        "outputId": "91afbeb0-9d46-4432-deb4-5b20a1abbf88"
      },
      "outputs": [
        {
          "name": "stdout",
          "output_type": "stream",
          "text": [
            "\n",
            "image 1/1 /content/drone.jpg: 416x640 1 drone, 900.7ms\n",
            "Speed: 4.5ms preprocess, 900.7ms inference, 1.2ms postprocess per image at shape (1, 3, 416, 640)\n",
            "Results saved to \u001b[1mruns/detect/predict\u001b[0m\n"
          ]
        }
      ],
      "source": [
        "# predicting on an image\n",
        "results = model.predict(source=\"drone.jpg\", save=True, conf=0.25)"
      ]
    },
    {
      "cell_type": "code",
      "execution_count": 13,
      "id": "6794e666",
      "metadata": {
        "colab": {
          "base_uri": "https://localhost:8080/"
        },
        "id": "6794e666",
        "outputId": "8f048ab7-8aeb-4ce9-ede5-99c42daed043"
      },
      "outputs": [
        {
          "name": "stdout",
          "output_type": "stream",
          "text": [
            "{0: 'drone'}\n"
          ]
        }
      ],
      "source": [
        "print(results[0].names)  # Dict of class index -> class name\n",
        "# print(results[0].boxes.cls)  # Tensor of predicted class indices"
      ]
    },
    {
      "cell_type": "code",
      "execution_count": null,
      "id": "49134594-92c9-4fc6-83b4-ea6b323a8f39",
      "metadata": {
        "colab": {
          "base_uri": "https://localhost:8080/",
          "height": 217
        },
        "id": "49134594-92c9-4fc6-83b4-ea6b323a8f39",
        "outputId": "46511e5f-3ee5-449b-d505-1e56e68993b7"
      },
      "outputs": [
        {
          "data": {
            "image/jpeg": "[encoded data removed]",
            "image/png": "[encoded data removed]",
            "text/plain": [
              "<PIL.Image.Image image mode=RGB size=330x200>"
            ]
          },
          "metadata": {},
          "output_type": "display_data"
        }
      ],
      "source": [
        "results[0].show()  #image"
      ]
    },
    {
      "cell_type": "code",
      "execution_count": 22,
      "id": "388ad12b-d8d9-4b98-a51b-9fcdcb8d50c1",
      "metadata": {
        "id": "388ad12b-d8d9-4b98-a51b-9fcdcb8d50c1"
      },
      "outputs": [],
      "source": [
        "with open(\"/content/results_summary_exp1.txt\", \"w\") as f:\n",
        "    f.write(\"YOLOv11 Training Summary\\n\")\n",
        "    f.write(\"============================================\\n\")\n",
        "    f.write(f\"Model: yolov11m\\n\")\n",
        "    f.write(f\"Epochs: 100\\n\")\n",
        "    f.write(f\"Batch Size: 10\\n\")\n",
        "    f.write(f\"Patience: 10\\n\\n\")\n",
        "    f.write(\"Final Evaluation Metrics:\\n\")\n",
        "    f.write(f\"mAP50: {metrics.box.map50:.4f}\\n\")\n",
        "    f.write(f\"mAP50-95: {metrics.box.map:.4f}\\n\")"
      ]
    },
    {
      "cell_type": "markdown",
      "id": "d14c3215-b957-42e9-aa69-d71dda17c250",
      "metadata": {
        "id": "d14c3215-b957-42e9-aa69-d71dda17c250"
      },
      "source": [
        "### To load the model"
      ]
    },
    {
      "cell_type": "code",
      "execution_count": null,
      "id": "9ba715ff-54fb-42b2-ba95-7dd60b3ae8b3",
      "metadata": {
        "id": "9ba715ff-54fb-42b2-ba95-7dd60b3ae8b3"
      },
      "outputs": [],
      "source": [
        "best_model = YOLO(\"runs/train/yolov11n_exp1/weights/best.pt\")\n",
        "results = best_model.predict(\"drone.jpg\")"
      ]
    },
    {
      "cell_type": "markdown",
      "id": "3675050a-19fe-4754-be74-508815f9da45",
      "metadata": {
        "id": "3675050a-19fe-4754-be74-508815f9da45"
      },
      "source": [
        "YOLOv11 saves the best model in:\n",
        "``\n",
        "runs/train/yolov11n_exp1/weights/best\n",
        "``"
      ]
    },
    {
      "cell_type": "code",
      "execution_count": 27,
      "id": "dauR140mO3kN",
      "metadata": {
        "colab": {
          "base_uri": "https://localhost:8080/",
          "height": 607
        },
        "id": "dauR140mO3kN",
        "outputId": "c9bb3950-2f6c-4ae0-9e03-3654f8d24b0d"
      },
      "outputs": [
        {
          "data": {
            "image/png": "[encoded data removed]",
            "text/plain": [
              "<Figure size 1000x600 with 1 Axes>"
            ]
          },
          "metadata": {},
          "output_type": "display_data"
        }
      ],
      "source": [
        "import pandas as pd\n",
        "import matplotlib.pyplot as plt\n",
        "\n",
        "# Load CSV and clean column names\n",
        "csv_path = \"/content/drive/MyDrive/yolo_train_logs/yolov11m_exp1_colab/results.csv\"\n",
        "df = pd.read_csv(csv_path)\n",
        "df.columns = df.columns.str.strip()  # Remove leading/trailing spaces\n",
        "\n",
        "# Plot training loss curves\n",
        "plt.figure(figsize=(10, 6))\n",
        "plt.plot(df['epoch'], df['train/box_loss'], label='Box Loss')\n",
        "plt.plot(df['epoch'], df['train/cls_loss'], label='Class Loss')\n",
        "plt.plot(df['epoch'], df['train/dfl_loss'], label='DFL Loss')\n",
        "\n",
        "# Total loss (sum of three)\n",
        "total_loss = df['train/box_loss'] + df['train/cls_loss'] + df['train/dfl_loss']\n",
        "plt.plot(df['epoch'], total_loss, label='Total Loss', linestyle='--')\n",
        "\n",
        "# Plot aesthetics\n",
        "plt.xlabel(\"Epoch\")\n",
        "plt.ylabel(\"Loss\")\n",
        "plt.title(\"Training Loss vs Epochs\")\n",
        "plt.legend()\n",
        "plt.grid(True)\n",
        "plt.tight_layout()\n",
        "plt.show()\n",
        "\n",
        "\n",
        "'''\n",
        "This figure shows how the training losses—box loss, class loss, and DFL (Distribution Focal Loss)—change over training epochs. These losses help measure how well the YOLO model is learning:\n",
        "\n",
        "Box loss (train/box_loss): Measures how accurately predicted bounding boxes match ground truth.\n",
        "\n",
        "Class loss (train/cls_loss): Measures how accurately objects are classified.\n",
        "\n",
        "DFL loss (train/dfl_loss): Helps refine box predictions by modeling localization uncertainty.\n",
        "'''"
      ]
    },
    {
      "cell_type": "code",
      "execution_count": 32,
      "id": "UdjHv1OmsduP",
      "metadata": {
        "colab": {
          "base_uri": "https://localhost:8080/",
          "height": 1000
        },
        "id": "UdjHv1OmsduP",
        "outputId": "cc54a93a-e57f-486d-912f-f457b82dfeea"
      },
      "outputs": [
        {
          "data": {
            "image/png": "[encoded data removed]",
            "text/plain": [
              "<Figure size 1000x600 with 1 Axes>"
            ]
          },
          "metadata": {},
          "output_type": "display_data"
        },
        {
          "data": {
            "text/plain": [
              "[<matplotlib.lines.Line2D at 0x7bcd2d305d10>]"
            ]
          },
          "execution_count": 32,
          "metadata": {},
          "output_type": "execute_result"
        },
        {
          "data": {
            "image/png": "[encoded data removed]",
            "text/plain": [
              "<Figure size 1000x600 with 1 Axes>"
            ]
          },
          "metadata": {},
          "output_type": "display_data"
        }
      ],
      "source": [
        "import pandas as pd\n",
        "import matplotlib.pyplot as plt\n",
        "\n",
        "# Path to your CSV file\n",
        "csv_path = \"/content/drive/MyDrive/yolo_train_logs/yolov11m_exp1_colab/results.csv\"\n",
        "\n",
        "# Load the CSV file and clean column names\n",
        "df = pd.read_csv(csv_path)\n",
        "df.columns = df.columns.str.strip()  # Strip extra spaces\n",
        "\n",
        "# Use the 'epoch' column for X-axis (not index)\n",
        "epochs = df['epoch']\n",
        "\n",
        "# ----- Plot 1: Training Losses -----\n",
        "plt.figure(figsize=(10, 6))\n",
        "plt.plot(epochs, df['train/box_loss'], label='Box Loss')\n",
        "plt.plot(epochs, df['train/cls_loss'], label='Class Loss')\n",
        "plt.plot(epochs, df['train/dfl_loss'], label='DFL Loss')\n",
        "\n",
        "plt.title(\"Training Loss vs Epochs\")\n",
        "plt.xlabel(\"Epoch\")\n",
        "plt.ylabel(\"Loss\")\n",
        "plt.legend()\n",
        "plt.grid(True)\n",
        "plt.tight_layout()\n",
        "plt.show()\n",
        "\n",
        "# ----- Plot 2: Validation Metrics -----\n",
        "plt.figure(figsize=(10, 6))\n",
        "plt.plot(epochs, df['metrics/precision(B)'], label='Precision')\n",
        "plt.plot(epochs, df['metrics/recall(B)'], label='Recall')\n",
        "plt.plot(epochs, df['metrics/mAP50(B)'], label='mAP@0.5')\n",
        "plt.plot(epochs, df['metrics/mAP50-95(B)'], label='mAP@0.5:0.95')\n",
        "\n",
        "'''\n",
        "Summary of Metrics:\n",
        "Precision: Of all predicted boxes, how many were correct.\n",
        "\n",
        "Recall: Of all actual ground truth boxes, how many were detected.\n",
        "\n",
        "mAP@0.5: Mean Average Precision at IoU 0.5 — standard accuracy for object detection.\n",
        "\n",
        "mAP@0.5:0.95: Stricter average metric, better reflects model quality.\n",
        "'''\n"
      ]
    },
    {
      "cell_type": "code",
      "execution_count": 34,
      "id": "n9x2yDtEspXH",
      "metadata": {
        "colab": {
          "base_uri": "https://localhost:8080/",
          "height": 607
        },
        "id": "n9x2yDtEspXH",
        "outputId": "2e6a2cfe-318c-43c4-bb0a-8527628b740e"
      },
      "outputs": [
        {
          "data": {
            "image/png": "[encoded data removed]",
            "text/plain": [
              "<Figure size 1000x600 with 1 Axes>"
            ]
          },
          "metadata": {},
          "output_type": "display_data"
        }
      ],
      "source": [
        "# Plot only mAP50 and mAP50-95\n",
        "plt.figure(figsize=(10, 6))\n",
        "plt.plot(epochs, df['metrics/mAP50(B)'], label='mAP@0.5')\n",
        "plt.plot(epochs, df['metrics/mAP50-95(B)'], label='mAP@0.5:0.95')\n",
        "\n",
        "plt.title(\"mAP Metrics vs Epochs\")\n",
        "plt.xlabel(\"Epoch\")\n",
        "plt.ylabel(\"mAP Score\")\n",
        "plt.legend()\n",
        "plt.grid(True)\n",
        "plt.tight_layout()\n",
        "plt.show()\n"
      ]
    },
    {
      "cell_type": "code",
      "execution_count": null,
      "id": "gBBEFjXZsqTa",
      "metadata": {
        "id": "gBBEFjXZsqTa"
      },
      "outputs": [],
      "source": [
        "# Plot total loss (box + cls + dfl)\n",
        "df['total_loss'] = df['box_loss'] + df['cls_loss'] + df['dfl_loss']\n",
        "plt.plot(epochs, df['total_loss'], label='Total Loss')\n"
      ]
    },
    {
      "cell_type": "code",
      "execution_count": 29,
      "id": "jIe9ntg9DE-V",
      "metadata": {
        "colab": {
          "base_uri": "https://localhost:8080/"
        },
        "id": "jIe9ntg9DE-V",
        "outputId": "07ce653d-b309-4880-8370-e867fd680b57"
      },
      "outputs": [
        {
          "name": "stdout",
          "output_type": "stream",
          "text": [
            "YOLO11m summary (fused): 125 layers, 20,030,803 parameters, 0 gradients, 67.6 GFLOPs\n"
          ]
        },
        {
          "data": {
            "text/plain": [
              "(125, 20030803, 0, 67.6499968)"
            ]
          },
          "execution_count": 29,
          "metadata": {},
          "output_type": "execute_result"
        }
      ],
      "source": [
        "# concise summary\n",
        "model.info()"
      ]
    },
    {
      "cell_type": "code",
      "execution_count": 28,
      "id": "0pP4cJ-LDEr6",
      "metadata": {
        "colab": {
          "base_uri": "https://localhost:8080/"
        },
        "id": "0pP4cJ-LDEr6",
        "outputId": "c4609b17-3196-4ff3-873f-66c18da1109a"
      },
      "outputs": [
        {
          "name": "stdout",
          "output_type": "stream",
          "text": [
            "Collecting torchinfo\n",
            "  Downloading torchinfo-1.8.0-py3-none-any.whl.metadata (21 kB)\n",
            "Downloading torchinfo-1.8.0-py3-none-any.whl (23 kB)\n",
            "Installing collected packages: torchinfo\n",
            "Successfully installed torchinfo-1.8.0\n"
          ]
        },
        {
          "data": {
            "text/plain": [
              "=========================================================================================================\n",
              "Layer (type:depth-idx)                                  Output Shape              Param #\n",
              "=========================================================================================================\n",
              "DetectionModel                                          [1, 5, 8400]              --\n",
              "├─Sequential: 1-1                                       --                        --\n",
              "│    └─Conv: 2-1                                        [1, 64, 320, 320]         --\n",
              "│    │    └─Conv2d: 3-1                                 [1, 64, 320, 320]         (1,792)\n",
              "│    └─Detect: 2-174                                    --                        (recursive)\n",
              "│    │    └─ModuleList: 3-190                           --                        (recursive)\n",
              "│    └─Conv: 2-3                                        [1, 128, 160, 160]        --\n",
              "│    │    └─Conv2d: 3-3                                 [1, 128, 160, 160]        (73,856)\n",
              "│    └─Detect: 2-174                                    --                        (recursive)\n",
              "│    │    └─ModuleList: 3-190                           --                        (recursive)\n",
              "│    └─C3k2: 2-5                                        [1, 256, 160, 160]        94,720\n",
              "│    │    └─Conv: 3-5                                   [1, 128, 160, 160]        (16,512)\n",
              "│    └─Detect: 2-174                                    --                        (recursive)\n",
              "│    │    └─ModuleList: 3-190                           --                        (recursive)\n",
              "│    └─C3k2: 2-21                                       --                        (recursive)\n",
              "│    │    └─ModuleList: 3-19                            --                        (recursive)\n",
              "│    └─Detect: 2-174                                    --                        (recursive)\n",
              "│    │    └─ModuleList: 3-190                           --                        (recursive)\n",
              "│    └─C3k2: 2-21                                       --                        (recursive)\n",
              "│    │    └─ModuleList: 3-19                            --                        (recursive)\n",
              "│    └─Detect: 2-174                                    --                        (recursive)\n",
              "│    │    └─ModuleList: 3-190                           --                        (recursive)\n",
              "│    └─C3k2: 2-21                                       --                        (recursive)\n",
              "│    │    └─ModuleList: 3-19                            --                        (recursive)\n",
              "│    └─Detect: 2-174                                    --                        (recursive)\n",
              "│    │    └─ModuleList: 3-190                           --                        (recursive)\n",
              "│    └─C3k2: 2-21                                       --                        (recursive)\n",
              "│    │    └─ModuleList: 3-19                            --                        (recursive)\n",
              "│    └─Detect: 2-174                                    --                        (recursive)\n",
              "│    │    └─ModuleList: 3-190                           --                        (recursive)\n",
              "│    └─C3k2: 2-21                                       --                        (recursive)\n",
              "│    │    └─ModuleList: 3-19                            --                        (recursive)\n",
              "│    └─Detect: 2-174                                    --                        (recursive)\n",
              "│    │    └─ModuleList: 3-190                           --                        (recursive)\n",
              "│    └─C3k2: 2-21                                       --                        (recursive)\n",
              "│    │    └─ModuleList: 3-19                            --                        (recursive)\n",
              "│    └─Detect: 2-174                                    --                        (recursive)\n",
              "│    │    └─ModuleList: 3-190                           --                        (recursive)\n",
              "│    └─C3k2: 2-21                                       --                        (recursive)\n",
              "│    │    └─ModuleList: 3-19                            --                        (recursive)\n",
              "│    └─Detect: 2-174                                    --                        (recursive)\n",
              "│    │    └─ModuleList: 3-190                           --                        (recursive)\n",
              "│    └─C3k2: 2-21                                       --                        (recursive)\n",
              "│    │    └─Conv: 3-21                                  [1, 256, 160, 160]        (49,408)\n",
              "│    └─Detect: 2-174                                    --                        (recursive)\n",
              "│    │    └─ModuleList: 3-190                           --                        (recursive)\n",
              "│    └─Conv: 2-23                                       [1, 256, 80, 80]          --\n",
              "│    │    └─Conv2d: 3-23                                [1, 256, 80, 80]          (590,080)\n",
              "│    └─Detect: 2-174                                    --                        (recursive)\n",
              "│    │    └─ModuleList: 3-190                           --                        (recursive)\n",
              "│    └─C3k2: 2-25                                       [1, 512, 80, 80]          377,856\n",
              "│    │    └─Conv: 3-25                                  [1, 256, 80, 80]          (65,792)\n",
              "│    └─Detect: 2-174                                    --                        (recursive)\n",
              "│    │    └─ModuleList: 3-190                           --                        (recursive)\n",
              "│    └─C3k2: 2-41                                       --                        (recursive)\n",
              "│    │    └─ModuleList: 3-39                            --                        (recursive)\n",
              "│    └─Detect: 2-174                                    --                        (recursive)\n",
              "│    │    └─ModuleList: 3-190                           --                        (recursive)\n",
              "│    └─C3k2: 2-41                                       --                        (recursive)\n",
              "│    │    └─ModuleList: 3-39                            --                        (recursive)\n",
              "│    └─Detect: 2-174                                    --                        (recursive)\n",
              "│    │    └─ModuleList: 3-190                           --                        (recursive)\n",
              "│    └─C3k2: 2-41                                       --                        (recursive)\n",
              "│    │    └─ModuleList: 3-39                            --                        (recursive)\n",
              "│    └─Detect: 2-174                                    --                        (recursive)\n",
              "│    │    └─ModuleList: 3-190                           --                        (recursive)\n",
              "│    └─C3k2: 2-41                                       --                        (recursive)\n",
              "│    │    └─ModuleList: 3-39                            --                        (recursive)\n",
              "│    └─Detect: 2-174                                    --                        (recursive)\n",
              "│    │    └─ModuleList: 3-190                           --                        (recursive)\n",
              "│    └─C3k2: 2-41                                       --                        (recursive)\n",
              "│    │    └─ModuleList: 3-39                            --                        (recursive)\n",
              "│    └─Detect: 2-174                                    --                        (recursive)\n",
              "│    │    └─ModuleList: 3-190                           --                        (recursive)\n",
              "│    └─C3k2: 2-41                                       --                        (recursive)\n",
              "│    │    └─ModuleList: 3-39                            --                        (recursive)\n",
              "│    └─Detect: 2-174                                    --                        (recursive)\n",
              "│    │    └─ModuleList: 3-190                           --                        (recursive)\n",
              "│    └─C3k2: 2-41                                       --                        (recursive)\n",
              "│    │    └─ModuleList: 3-39                            --                        (recursive)\n",
              "│    └─Detect: 2-174                                    --                        (recursive)\n",
              "│    │    └─ModuleList: 3-190                           --                        (recursive)\n",
              "│    └─C3k2: 2-41                                       --                        (recursive)\n",
              "│    │    └─Conv: 3-41                                  [1, 512, 80, 80]          (197,120)\n",
              "│    └─Detect: 2-174                                    --                        (recursive)\n",
              "│    │    └─ModuleList: 3-190                           --                        (recursive)\n",
              "│    └─Conv: 2-43                                       [1, 512, 40, 40]          --\n",
              "│    │    └─Conv2d: 3-43                                [1, 512, 40, 40]          (2,359,808)\n",
              "│    └─Detect: 2-174                                    --                        (recursive)\n",
              "│    │    └─ModuleList: 3-190                           --                        (recursive)\n",
              "│    └─C3k2: 2-45                                       [1, 512, 40, 40]          1,115,648\n",
              "│    │    └─Conv: 3-45                                  [1, 512, 40, 40]          (262,656)\n",
              "│    └─Detect: 2-174                                    --                        (recursive)\n",
              "│    │    └─ModuleList: 3-190                           --                        (recursive)\n",
              "│    └─C3k2: 2-61                                       --                        (recursive)\n",
              "│    │    └─ModuleList: 3-59                            --                        (recursive)\n",
              "│    └─Detect: 2-174                                    --                        (recursive)\n",
              "│    │    └─ModuleList: 3-190                           --                        (recursive)\n",
              "│    └─C3k2: 2-61                                       --                        (recursive)\n",
              "│    │    └─ModuleList: 3-59                            --                        (recursive)\n",
              "│    └─Detect: 2-174                                    --                        (recursive)\n",
              "│    │    └─ModuleList: 3-190                           --                        (recursive)\n",
              "│    └─C3k2: 2-61                                       --                        (recursive)\n",
              "│    │    └─ModuleList: 3-59                            --                        (recursive)\n",
              "│    └─Detect: 2-174                                    --                        (recursive)\n",
              "│    │    └─ModuleList: 3-190                           --                        (recursive)\n",
              "│    └─C3k2: 2-61                                       --                        (recursive)\n",
              "│    │    └─ModuleList: 3-59                            --                        (recursive)\n",
              "│    └─Detect: 2-174                                    --                        (recursive)\n",
              "│    │    └─ModuleList: 3-190                           --                        (recursive)\n",
              "│    └─C3k2: 2-61                                       --                        (recursive)\n",
              "│    │    └─ModuleList: 3-59                            --                        (recursive)\n",
              "│    └─Detect: 2-174                                    --                        (recursive)\n",
              "│    │    └─ModuleList: 3-190                           --                        (recursive)\n",
              "│    └─C3k2: 2-61                                       --                        (recursive)\n",
              "│    │    └─ModuleList: 3-59                            --                        (recursive)\n",
              "│    └─Detect: 2-174                                    --                        (recursive)\n",
              "│    │    └─ModuleList: 3-190                           --                        (recursive)\n",
              "│    └─C3k2: 2-61                                       --                        (recursive)\n",
              "│    │    └─ModuleList: 3-59                            --                        (recursive)\n",
              "│    └─Detect: 2-174                                    --                        (recursive)\n",
              "│    │    └─ModuleList: 3-190                           --                        (recursive)\n",
              "│    └─C3k2: 2-61                                       --                        (recursive)\n",
              "│    │    └─Conv: 3-61                                  [1, 512, 40, 40]          (393,728)\n",
              "│    └─Detect: 2-174                                    --                        (recursive)\n",
              "│    │    └─ModuleList: 3-190                           --                        (recursive)\n",
              "│    └─Conv: 2-63                                       [1, 512, 20, 20]          --\n",
              "│    │    └─Conv2d: 3-63                                [1, 512, 20, 20]          (2,359,808)\n",
              "│    └─Detect: 2-174                                    --                        (recursive)\n",
              "│    │    └─ModuleList: 3-190                           --                        (recursive)\n",
              "│    └─C3k2: 2-65                                       [1, 512, 20, 20]          1,115,648\n",
              "│    │    └─Conv: 3-65                                  [1, 512, 20, 20]          (262,656)\n",
              "│    └─Detect: 2-174                                    --                        (recursive)\n",
              "│    │    └─ModuleList: 3-190                           --                        (recursive)\n",
              "│    └─C3k2: 2-81                                       --                        (recursive)\n",
              "│    │    └─ModuleList: 3-79                            --                        (recursive)\n",
              "│    └─Detect: 2-174                                    --                        (recursive)\n",
              "│    │    └─ModuleList: 3-190                           --                        (recursive)\n",
              "│    └─C3k2: 2-81                                       --                        (recursive)\n",
              "│    │    └─ModuleList: 3-79                            --                        (recursive)\n",
              "│    └─Detect: 2-174                                    --                        (recursive)\n",
              "│    │    └─ModuleList: 3-190                           --                        (recursive)\n",
              "│    └─C3k2: 2-81                                       --                        (recursive)\n",
              "│    │    └─ModuleList: 3-79                            --                        (recursive)\n",
              "│    └─Detect: 2-174                                    --                        (recursive)\n",
              "│    │    └─ModuleList: 3-190                           --                        (recursive)\n",
              "│    └─C3k2: 2-81                                       --                        (recursive)\n",
              "│    │    └─ModuleList: 3-79                            --                        (recursive)\n",
              "│    └─Detect: 2-174                                    --                        (recursive)\n",
              "│    │    └─ModuleList: 3-190                           --                        (recursive)\n",
              "│    └─C3k2: 2-81                                       --                        (recursive)\n",
              "│    │    └─ModuleList: 3-79                            --                        (recursive)\n",
              "│    └─Detect: 2-174                                    --                        (recursive)\n",
              "│    │    └─ModuleList: 3-190                           --                        (recursive)\n",
              "│    └─C3k2: 2-81                                       --                        (recursive)\n",
              "│    │    └─ModuleList: 3-79                            --                        (recursive)\n",
              "│    └─Detect: 2-174                                    --                        (recursive)\n",
              "│    │    └─ModuleList: 3-190                           --                        (recursive)\n",
              "│    └─C3k2: 2-81                                       --                        (recursive)\n",
              "│    │    └─ModuleList: 3-79                            --                        (recursive)\n",
              "│    └─Detect: 2-174                                    --                        (recursive)\n",
              "│    │    └─ModuleList: 3-190                           --                        (recursive)\n",
              "│    └─C3k2: 2-81                                       --                        (recursive)\n",
              "│    │    └─Conv: 3-81                                  [1, 512, 20, 20]          (393,728)\n",
              "│    └─Detect: 2-174                                    --                        (recursive)\n",
              "│    │    └─ModuleList: 3-190                           --                        (recursive)\n",
              "│    └─SPPF: 2-83                                       [1, 512, 20, 20]          524,800\n",
              "│    │    └─Conv: 3-83                                  [1, 256, 20, 20]          (131,328)\n",
              "│    └─Detect: 2-174                                    --                        (recursive)\n",
              "│    │    └─ModuleList: 3-190                           --                        (recursive)\n",
              "│    └─SPPF: 2-85                                       --                        (recursive)\n",
              "│    │    └─MaxPool2d: 3-85                             [1, 256, 20, 20]          --\n",
              "│    │    └─MaxPool2d: 3-86                             [1, 256, 20, 20]          --\n",
              "│    │    └─MaxPool2d: 3-87                             [1, 256, 20, 20]          --\n",
              "│    │    └─Conv: 3-88                                  [1, 512, 20, 20]          (524,800)\n",
              "│    └─Detect: 2-174                                    --                        (recursive)\n",
              "│    │    └─ModuleList: 3-190                           --                        (recursive)\n",
              "│    └─C2PSA: 2-87                                      [1, 512, 20, 20]          725,504\n",
              "│    │    └─Conv: 3-90                                  [1, 512, 20, 20]          (262,656)\n",
              "│    └─Detect: 2-174                                    --                        (recursive)\n",
              "│    │    └─ModuleList: 3-190                           --                        (recursive)\n",
              "│    └─C2PSA: 2-91                                      --                        (recursive)\n",
              "│    │    └─Sequential: 3-92                            [1, 256, 20, 20]          (462,848)\n",
              "│    └─Detect: 2-174                                    --                        (recursive)\n",
              "│    │    └─ModuleList: 3-190                           --                        (recursive)\n",
              "│    └─C2PSA: 2-91                                      --                        (recursive)\n",
              "│    │    └─Sequential: 3-94                            --                        (recursive)\n",
              "│    │    └─Conv: 3-95                                  [1, 512, 20, 20]          (262,656)\n",
              "│    └─Detect: 2-174                                    --                        (recursive)\n",
              "│    │    └─ModuleList: 3-190                           --                        (recursive)\n",
              "│    └─Upsample: 2-93                                   [1, 512, 40, 40]          --\n",
              "│    └─Concat: 2-94                                     [1, 1024, 40, 40]         --\n",
              "│    └─C3k2: 2-95                                       [1, 512, 40, 40]          1,115,648\n",
              "│    │    └─Conv: 3-97                                  [1, 512, 40, 40]          (524,800)\n",
              "│    └─Detect: 2-174                                    --                        (recursive)\n",
              "│    │    └─ModuleList: 3-190                           --                        (recursive)\n",
              "│    └─C3k2: 2-111                                      --                        (recursive)\n",
              "│    │    └─ModuleList: 3-111                           --                        (recursive)\n",
              "│    └─Detect: 2-174                                    --                        (recursive)\n",
              "│    │    └─ModuleList: 3-190                           --                        (recursive)\n",
              "│    └─C3k2: 2-111                                      --                        (recursive)\n",
              "│    │    └─ModuleList: 3-111                           --                        (recursive)\n",
              "│    └─Detect: 2-174                                    --                        (recursive)\n",
              "│    │    └─ModuleList: 3-190                           --                        (recursive)\n",
              "│    └─C3k2: 2-111                                      --                        (recursive)\n",
              "│    │    └─ModuleList: 3-111                           --                        (recursive)\n",
              "│    └─Detect: 2-174                                    --                        (recursive)\n",
              "│    │    └─ModuleList: 3-190                           --                        (recursive)\n",
              "│    └─C3k2: 2-111                                      --                        (recursive)\n",
              "│    │    └─ModuleList: 3-111                           --                        (recursive)\n",
              "│    └─Detect: 2-174                                    --                        (recursive)\n",
              "│    │    └─ModuleList: 3-190                           --                        (recursive)\n",
              "│    └─C3k2: 2-111                                      --                        (recursive)\n",
              "│    │    └─ModuleList: 3-111                           --                        (recursive)\n",
              "│    └─Detect: 2-174                                    --                        (recursive)\n",
              "│    │    └─ModuleList: 3-190                           --                        (recursive)\n",
              "│    └─C3k2: 2-111                                      --                        (recursive)\n",
              "│    │    └─ModuleList: 3-111                           --                        (recursive)\n",
              "│    └─Detect: 2-174                                    --                        (recursive)\n",
              "│    │    └─ModuleList: 3-190                           --                        (recursive)\n",
              "│    └─C3k2: 2-111                                      --                        (recursive)\n",
              "│    │    └─ModuleList: 3-111                           --                        (recursive)\n",
              "│    └─Detect: 2-174                                    --                        (recursive)\n",
              "│    │    └─ModuleList: 3-190                           --                        (recursive)\n",
              "│    └─C3k2: 2-111                                      --                        (recursive)\n",
              "│    │    └─Conv: 3-113                                 [1, 512, 40, 40]          (393,728)\n",
              "│    └─Detect: 2-174                                    --                        (recursive)\n",
              "│    │    └─ModuleList: 3-190                           --                        (recursive)\n",
              "│    └─Upsample: 2-113                                  [1, 512, 80, 80]          --\n",
              "│    └─Concat: 2-114                                    [1, 1024, 80, 80]         --\n",
              "│    └─C3k2: 2-115                                      [1, 256, 80, 80]          279,296\n",
              "│    │    └─Conv: 3-115                                 [1, 256, 80, 80]          (262,400)\n",
              "│    └─Detect: 2-174                                    --                        (recursive)\n",
              "│    │    └─ModuleList: 3-190                           --                        (recursive)\n",
              "│    └─C3k2: 2-131                                      --                        (recursive)\n",
              "│    │    └─ModuleList: 3-129                           --                        (recursive)\n",
              "│    └─Detect: 2-174                                    --                        (recursive)\n",
              "│    │    └─ModuleList: 3-190                           --                        (recursive)\n",
              "│    └─C3k2: 2-131                                      --                        (recursive)\n",
              "│    │    └─ModuleList: 3-129                           --                        (recursive)\n",
              "│    └─Detect: 2-174                                    --                        (recursive)\n",
              "│    │    └─ModuleList: 3-190                           --                        (recursive)\n",
              "│    └─C3k2: 2-131                                      --                        (recursive)\n",
              "│    │    └─ModuleList: 3-129                           --                        (recursive)\n",
              "│    └─Detect: 2-174                                    --                        (recursive)\n",
              "│    │    └─ModuleList: 3-190                           --                        (recursive)\n",
              "│    └─C3k2: 2-131                                      --                        (recursive)\n",
              "│    │    └─ModuleList: 3-129                           --                        (recursive)\n",
              "│    └─Detect: 2-174                                    --                        (recursive)\n",
              "│    │    └─ModuleList: 3-190                           --                        (recursive)\n",
              "│    └─C3k2: 2-131                                      --                        (recursive)\n",
              "│    │    └─ModuleList: 3-129                           --                        (recursive)\n",
              "│    └─Detect: 2-174                                    --                        (recursive)\n",
              "│    │    └─ModuleList: 3-190                           --                        (recursive)\n",
              "│    └─C3k2: 2-131                                      --                        (recursive)\n",
              "│    │    └─ModuleList: 3-129                           --                        (recursive)\n",
              "│    └─Detect: 2-174                                    --                        (recursive)\n",
              "│    │    └─ModuleList: 3-190                           --                        (recursive)\n",
              "│    └─C3k2: 2-131                                      --                        (recursive)\n",
              "│    │    └─ModuleList: 3-129                           --                        (recursive)\n",
              "│    └─Detect: 2-174                                    --                        (recursive)\n",
              "│    │    └─ModuleList: 3-190                           --                        (recursive)\n",
              "│    └─C3k2: 2-131                                      --                        (recursive)\n",
              "│    │    └─Conv: 3-131                                 [1, 256, 80, 80]          (98,560)\n",
              "│    └─Detect: 2-174                                    --                        (recursive)\n",
              "│    │    └─ModuleList: 3-190                           --                        (recursive)\n",
              "│    └─Conv: 2-133                                      [1, 256, 40, 40]          --\n",
              "│    │    └─Conv2d: 3-133                               [1, 256, 40, 40]          (590,080)\n",
              "│    └─Detect: 2-174                                    --                        (recursive)\n",
              "│    │    └─ModuleList: 3-190                           --                        (recursive)\n",
              "│    └─Concat: 2-135                                    [1, 768, 40, 40]          --\n",
              "│    └─C3k2: 2-136                                      [1, 512, 40, 40]          1,115,648\n",
              "│    │    └─Conv: 3-135                                 [1, 512, 40, 40]          (393,728)\n",
              "│    └─Detect: 2-174                                    --                        (recursive)\n",
              "│    │    └─ModuleList: 3-190                           --                        (recursive)\n",
              "│    └─C3k2: 2-152                                      --                        (recursive)\n",
              "│    │    └─ModuleList: 3-149                           --                        (recursive)\n",
              "│    └─Detect: 2-174                                    --                        (recursive)\n",
              "│    │    └─ModuleList: 3-190                           --                        (recursive)\n",
              "│    └─C3k2: 2-152                                      --                        (recursive)\n",
              "│    │    └─ModuleList: 3-149                           --                        (recursive)\n",
              "│    └─Detect: 2-174                                    --                        (recursive)\n",
              "│    │    └─ModuleList: 3-190                           --                        (recursive)\n",
              "│    └─C3k2: 2-152                                      --                        (recursive)\n",
              "│    │    └─ModuleList: 3-149                           --                        (recursive)\n",
              "│    └─Detect: 2-174                                    --                        (recursive)\n",
              "│    │    └─ModuleList: 3-190                           --                        (recursive)\n",
              "│    └─C3k2: 2-152                                      --                        (recursive)\n",
              "│    │    └─ModuleList: 3-149                           --                        (recursive)\n",
              "│    └─Detect: 2-174                                    --                        (recursive)\n",
              "│    │    └─ModuleList: 3-190                           --                        (recursive)\n",
              "│    └─C3k2: 2-152                                      --                        (recursive)\n",
              "│    │    └─ModuleList: 3-149                           --                        (recursive)\n",
              "│    └─Detect: 2-174                                    --                        (recursive)\n",
              "│    │    └─ModuleList: 3-190                           --                        (recursive)\n",
              "│    └─C3k2: 2-152                                      --                        (recursive)\n",
              "│    │    └─ModuleList: 3-149                           --                        (recursive)\n",
              "│    └─Detect: 2-174                                    --                        (recursive)\n",
              "│    │    └─ModuleList: 3-190                           --                        (recursive)\n",
              "│    └─C3k2: 2-152                                      --                        (recursive)\n",
              "│    │    └─ModuleList: 3-149                           --                        (recursive)\n",
              "│    └─Detect: 2-174                                    --                        (recursive)\n",
              "│    │    └─ModuleList: 3-190                           --                        (recursive)\n",
              "│    └─C3k2: 2-152                                      --                        (recursive)\n",
              "│    │    └─Conv: 3-151                                 [1, 512, 40, 40]          (393,728)\n",
              "│    └─Detect: 2-174                                    --                        (recursive)\n",
              "│    │    └─ModuleList: 3-190                           --                        (recursive)\n",
              "│    └─Conv: 2-154                                      [1, 512, 20, 20]          --\n",
              "│    │    └─Conv2d: 3-153                               [1, 512, 20, 20]          (2,359,808)\n",
              "│    └─Detect: 2-174                                    --                        (recursive)\n",
              "│    │    └─ModuleList: 3-190                           --                        (recursive)\n",
              "│    └─Concat: 2-156                                    [1, 1024, 20, 20]         --\n",
              "│    └─C3k2: 2-157                                      [1, 512, 20, 20]          1,115,648\n",
              "│    │    └─Conv: 3-155                                 [1, 512, 20, 20]          (524,800)\n",
              "│    └─Detect: 2-174                                    --                        (recursive)\n",
              "│    │    └─ModuleList: 3-190                           --                        (recursive)\n",
              "│    └─C3k2: 2-173                                      --                        (recursive)\n",
              "│    │    └─ModuleList: 3-169                           --                        (recursive)\n",
              "│    └─Detect: 2-174                                    --                        (recursive)\n",
              "│    │    └─ModuleList: 3-190                           --                        (recursive)\n",
              "│    └─C3k2: 2-173                                      --                        (recursive)\n",
              "│    │    └─ModuleList: 3-169                           --                        (recursive)\n",
              "│    └─Detect: 2-174                                    --                        (recursive)\n",
              "│    │    └─ModuleList: 3-190                           --                        (recursive)\n",
              "│    └─C3k2: 2-173                                      --                        (recursive)\n",
              "│    │    └─ModuleList: 3-169                           --                        (recursive)\n",
              "│    └─Detect: 2-174                                    --                        (recursive)\n",
              "│    │    └─ModuleList: 3-190                           --                        (recursive)\n",
              "│    └─C3k2: 2-173                                      --                        (recursive)\n",
              "│    │    └─ModuleList: 3-169                           --                        (recursive)\n",
              "│    └─Detect: 2-174                                    --                        (recursive)\n",
              "│    │    └─ModuleList: 3-190                           --                        (recursive)\n",
              "│    └─C3k2: 2-173                                      --                        (recursive)\n",
              "│    │    └─ModuleList: 3-169                           --                        (recursive)\n",
              "│    └─Detect: 2-174                                    --                        (recursive)\n",
              "│    │    └─ModuleList: 3-190                           --                        (recursive)\n",
              "│    └─C3k2: 2-173                                      --                        (recursive)\n",
              "│    │    └─ModuleList: 3-169                           --                        (recursive)\n",
              "│    └─Detect: 2-174                                    --                        (recursive)\n",
              "│    │    └─ModuleList: 3-190                           --                        (recursive)\n",
              "│    └─C3k2: 2-173                                      --                        (recursive)\n",
              "│    │    └─ModuleList: 3-169                           --                        (recursive)\n",
              "│    └─Detect: 2-174                                    --                        (recursive)\n",
              "│    │    └─ModuleList: 3-190                           --                        (recursive)\n",
              "│    └─C3k2: 2-173                                      --                        (recursive)\n",
              "│    │    └─Conv: 3-171                                 [1, 512, 20, 20]          (393,728)\n",
              "│    └─Detect: 2-174                                    --                        (recursive)\n",
              "│    │    └─ModuleList: 3-190                           --                        (recursive)\n",
              "│    └─Detect: 2-175                                    [1, 5, 8400]              --\n",
              "│    │    └─ModuleList: 3-189                           --                        (recursive)\n",
              "│    │    └─ModuleList: 3-190                           --                        (recursive)\n",
              "│    │    └─ModuleList: 3-189                           --                        (recursive)\n",
              "│    │    └─ModuleList: 3-190                           --                        (recursive)\n",
              "│    │    └─ModuleList: 3-189                           --                        (recursive)\n",
              "│    │    └─ModuleList: 3-190                           --                        (recursive)\n",
              "│    │    └─ModuleList: 3-189                           --                        (recursive)\n",
              "│    │    └─ModuleList: 3-190                           --                        (recursive)\n",
              "│    │    └─ModuleList: 3-189                           --                        (recursive)\n",
              "│    │    └─ModuleList: 3-190                           --                        (recursive)\n",
              "│    │    └─ModuleList: 3-189                           --                        (recursive)\n",
              "│    │    └─ModuleList: 3-190                           --                        (recursive)\n",
              "│    │    └─ModuleList: 3-189                           --                        (recursive)\n",
              "│    │    └─ModuleList: 3-190                           --                        (recursive)\n",
              "│    │    └─ModuleList: 3-189                           --                        (recursive)\n",
              "│    │    └─ModuleList: 3-190                           --                        (recursive)\n",
              "│    │    └─ModuleList: 3-189                           --                        (recursive)\n",
              "│    │    └─ModuleList: 3-190                           --                        (recursive)\n",
              "│    │    └─DFL: 3-191                                  [1, 4, 8400]              (16)\n",
              "=========================================================================================================\n",
              "Total params: 35,580,469\n",
              "Trainable params: 0\n",
              "Non-trainable params: 35,580,469\n",
              "Total mult-adds (Units.GIGABYTES): 33.89\n",
              "=========================================================================================================\n",
              "Input size (MB): 4.92\n",
              "Forward/backward pass size (MB): 543.26\n",
              "Params size (MB): 80.12\n",
              "Estimated Total Size (MB): 628.30\n",
              "========================================================================================================="
            ]
          },
          "execution_count": 28,
          "metadata": {},
          "output_type": "execute_result"
        }
      ],
      "source": [
        "!pip install torchinfo\n",
        "from torchinfo import summary\n",
        "summary(model.model, input_size=(1, 3, 640, 640))"
      ]
    }
  ],
  "metadata": {
    "accelerator": "GPU",
    "colab": {
      "gpuType": "T4",
      "provenance": []
    },
    "kernelspec": {
      "display_name": "Python 3",
      "name": "python3"
    },
    "language_info": {
      "codemirror_mode": {
        "name": "ipython",
        "version": 3
      },
      "file_extension": ".py",
      "mimetype": "text/x-python",
      "name": "python",
      "nbconvert_exporter": "python",
      "pygments_lexer": "ipython3",
      "version": "3.12.3"
    }
  },
  "nbformat": 4,
  "nbformat_minor": 5
}
